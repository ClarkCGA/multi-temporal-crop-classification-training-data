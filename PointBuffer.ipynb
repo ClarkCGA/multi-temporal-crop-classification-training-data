{
 "cells": [
  {
   "cell_type": "code",
   "execution_count": null,
   "id": "248bdc55-5416-4c0f-b76c-6bbb5ff59df8",
   "metadata": {},
   "outputs": [],
   "source": [
    "import geopandas\n",
    "import json\n",
    "import shapely\n",
    "import shapely.geometry\n",
    "from shapely.ops import transform\n",
    "from shapely.geometry import Point\n",
    "from shapely.geometry import Polygon\n",
    "from pystac_client import Client \n",
    "from collections import defaultdict\n",
    "import xarray\n",
    "import rasterio as rio\n",
    "import rioxarray\n",
    "import os\n",
    "import fiona\n",
    "import numpy as np\n",
    "\n",
    "import os\n",
    "import geopandas\n",
    "import pandas as pd\n",
    "import fiona\n",
    "import numpy as np\n"
   ]
  },
  {
   "cell_type": "code",
   "execution_count": null,
   "id": "d3966fbc-2da6-4504-9eeb-707831a40aab",
   "metadata": {},
   "outputs": [],
   "source": [
    "##### START OPTIONS #####\n",
    "yoi = [2021]\n",
    "#toi = ['15STT']\n",
    "cloud_thres = 5\n",
    "valid_months = [3,4,5,6,7,8,9]\n",
    "root_path = \"/data/\"\n",
    "\n",
    "## file paths\n",
    "spath = root_path + f\"CDL_HLS_dataframe{yoi[0]}\"\n",
    "image_index_file = root_path + f\"image_index{yoi[0]}\"\n",
    "chip_file =  root_path + \"chip_bbox.geojson\"\n",
    "chip_csv = root_path + \"chip_tracker.csv\"\n",
    "kml_file = root_path + 'sentinel_tile_grid.kml'\n",
    "cdl_reclass_csv = root_path + \"cdl_freq.csv\"\n",
    "tile_tracker_csv = root_path + \"tile_tracker.csv\"\n",
    "\n",
    "## folder paths\n",
    "chip_dir = root_path + 'chips/'\n",
    "tif_dir = root_path + 'tif/'\n",
    "chip_dir_binary = root_path + 'chips_binary/'\n",
    "chip_dir_multi = root_path + 'chips_multi/'\n",
    "\n",
    "chip_dir_filt = root_path + 'chips_filtered/'\n",
    "chip_dir_binary_filt = root_path + 'chips_binary_filtered/'\n",
    "chip_dir_multi_filt = root_path + 'chips_multi_filtered/'\n",
    "\n",
    "chip_qa_dir = root_path + 'chips_qa/'\n",
    "\n",
    "#####  END OPTIONS  #####"
   ]
  },
  {
   "cell_type": "code",
   "execution_count": null,
   "id": "fb3fe5d3-6ad3-46b1-bf12-5f34d9533d83",
   "metadata": {
    "scrolled": true
   },
   "outputs": [],
   "source": [
    "# field = geopandas.read_file(\"/cdl_training_data/data/chip_bbox.geojson\")\n",
    "# field"
   ]
  },
  {
   "cell_type": "code",
   "execution_count": null,
   "id": "aed51a15-e247-47cd-b6a4-977756b4178e",
   "metadata": {},
   "outputs": [],
   "source": [
    "with open(\"/cdl_training_data/data/chip_bbox.geojson\", \"r\") as file:\n",
    "    chips = json.load(file)\n",
    "    \n",
    "chip_ids = []\n",
    "chip_x = []\n",
    "chip_y = []\n",
    "for item in chips['features']:\n",
    "    #print(item)\n",
    "    chip_ids.append(item['properties']['id'])\n",
    "    chip_x.append(item['properties']['center'][0])\n",
    "    chip_y.append(item['properties']['center'][1])\n",
    "\n",
    "\n",
    "#chip_ids = a.fea\n",
    "#print(a['features'][0]['properties']['center'])"
   ]
  },
  {
   "cell_type": "code",
   "execution_count": null,
   "id": "1b6642fe-7b11-434f-b1b9-9bb1bacb3a08",
   "metadata": {},
   "outputs": [],
   "source": [
    "# Load the HLS tiles and place there coordinates into a numpy array for processing later\n",
    "\n",
    "fiona.drvsupport.supported_drivers['KML'] = 'rw'\n",
    "tile_src = geopandas.read_file(kml_file, driver='KML')\n",
    "tile_name = []\n",
    "tile_x = []\n",
    "tile_y = []\n",
    "for tile_ind in range(tile_src.shape[0]):\n",
    "    tile_name.append(tile_src.iloc[tile_ind].Name)\n",
    "    tile_x.append(tile_src.iloc[tile_ind].geometry.centroid.x)\n",
    "    tile_y.append(tile_src.iloc[tile_ind].geometry.centroid.y)\n",
    "tile_name = np.array(tile_name)\n",
    "tile_x = np.array(tile_x)\n",
    "tile_y = np.array(tile_y)\n",
    "tile_src = pd.concat([tile_src, tile_src.bounds], axis = 1)\n",
    "#del tile_src\n",
    "tile_src.head(5)"
   ]
  },
  {
   "cell_type": "code",
   "execution_count": null,
   "id": "02dc8d89-fc24-4bba-a459-f78ae8de8acc",
   "metadata": {},
   "outputs": [],
   "source": [
    "def find_tile(x,y):\n",
    "# Identify closest tile\n",
    "    s = (tile_x - x)**2+(tile_y - y)**2\n",
    "    tname = tile_name[np.argmin(s)]\n",
    "    return(tname)"
   ]
  },
  {
   "cell_type": "code",
   "execution_count": null,
   "id": "f5ec3c74-4751-4e0e-9d27-6a9d6acd3f2a",
   "metadata": {},
   "outputs": [],
   "source": [
    "chip_df = pd.DataFrame({\"chip_id\" : chip_ids, \"chip_x\" : chip_x, \"chip_y\" : chip_y})\n",
    "chip_df['tile'] = chip_df.apply(lambda row : find_tile(row['chip_x'], row['chip_y']), axis = 1)\n",
    "chip_df.tail(5)"
   ]
  },
  {
   "cell_type": "code",
   "execution_count": null,
   "id": "477fc3c0-5faf-4a18-9733-dbb3c5ea4da2",
   "metadata": {},
   "outputs": [],
   "source": [
    "chips['features'][6398]"
   ]
  },
  {
   "cell_type": "code",
   "execution_count": null,
   "id": "4833df03-02b7-40da-8257-d8419fb340b7",
   "metadata": {},
   "outputs": [],
   "source": [
    "tiles = chip_df.tile.unique().tolist()\n",
    "tiles"
   ]
  },
  {
   "cell_type": "code",
   "execution_count": null,
   "id": "2b4cd976-521c-4c25-8993-ed580a39178d",
   "metadata": {},
   "outputs": [],
   "source": [
    "tiles.remove('01SBU')\n",
    "tiles"
   ]
  },
  {
   "cell_type": "code",
   "execution_count": null,
   "id": "8b81d838-473d-46b0-ac25-cefae3cabb0e",
   "metadata": {},
   "outputs": [],
   "source": [
    "STAC_URL = 'https://cmr.earthdata.nasa.gov/stac'\n",
    "catalog = Client.open(f'{STAC_URL}/LPCLOUD/')"
   ]
  },
  {
   "cell_type": "code",
   "execution_count": null,
   "id": "c80adeec-2bea-4796-8b2b-7110e9f059bb",
   "metadata": {},
   "outputs": [],
   "source": [
    "for current_tile in tiles[0:2]:\n",
    "    print(current_tile)\n",
    "    ## find single chip for current tile\n",
    "    chip_df_filt = chip_df.loc[chip_df.tile == current_tile]#.reset_index()\n",
    "    print(chip_df_filt)\n",
    "    first_chip_id = chip_df_filt.chip_id.iloc[0]\n",
    "    print(first_chip_id)\n",
    "    first_chip_index_in_json = chip_ids.index(first_chip_id)\n",
    "    print(first_chip_index_in_json)\n",
    "    roi = chips['features'][first_chip_index_in_json]['geometry']\n",
    "    print(roi)\n",
    "    search = catalog.search(\n",
    "        collections = ['HLSS30.v2.0'],\n",
    "        intersects = roi,\n",
    "        datetime = '2021-03/2021-10',\n",
    "    ) \n",
    "    num_results = search.matched()\n",
    "    item_collection = search.get_all_items()\n",
    "    print(num_results)\n",
    "    print(list(item_collection))\n"
   ]
  },
  {
   "cell_type": "code",
   "execution_count": null,
   "id": "ce115e02-4cce-4f96-90e2-a68d443651b4",
   "metadata": {},
   "outputs": [],
   "source": [
    "chip_ids.index('079_078')    "
   ]
  },
  {
   "cell_type": "code",
   "execution_count": null,
   "id": "587441dd-c0c8-4072-b150-6335277259a9",
   "metadata": {},
   "outputs": [],
   "source": [
    "extract_attribute_with_value(chips, 'id', '000_001')"
   ]
  },
  {
   "cell_type": "code",
   "execution_count": null,
   "id": "f8bc6bbe-1ebd-44b6-96fc-5f9279f2ad56",
   "metadata": {},
   "outputs": [],
   "source": [
    "chips['features']"
   ]
  },
  {
   "cell_type": "code",
   "execution_count": null,
   "id": "454a6cf9-1e77-462c-9c2d-07052c7e45dc",
   "metadata": {},
   "outputs": [],
   "source": [
    "fieldShape = field['geometry'][0]\n",
    "fieldShape"
   ]
  },
  {
   "cell_type": "code",
   "execution_count": null,
   "id": "66af016f-2335-4acc-ab2f-fd1c840ee22a",
   "metadata": {},
   "outputs": [],
   "source": [
    "type(fieldShape)"
   ]
  },
  {
   "cell_type": "code",
   "execution_count": null,
   "id": "d0baa983-1330-44c8-93c3-be2692471f8c",
   "metadata": {},
   "outputs": [],
   "source": [
    "roi = json.loads(geopandas.GeoSeries([fieldShape]).to_json())\n",
    "roi"
   ]
  },
  {
   "cell_type": "code",
   "execution_count": null,
   "id": "ec999462-ef9a-410e-b3d1-816fdfd212b1",
   "metadata": {},
   "outputs": [],
   "source": [
    "roi['features'][0]['geometry']['coordinates'][0] = roi['features'][0]['geometry']['coordinates'][0][::-1]"
   ]
  },
  {
   "cell_type": "code",
   "execution_count": null,
   "id": "bafe7ca0-49a9-4bec-b79c-a9cd8f9e631d",
   "metadata": {},
   "outputs": [],
   "source": [
    "search = catalog.search(\n",
    "    collections = ['HLSS30.v2.0'],\n",
    "    intersects = roi['features'][0]['geometry'],\n",
    "    datetime = '2021-03/2021-10',\n",
    ") "
   ]
  },
  {
   "cell_type": "code",
   "execution_count": null,
   "id": "b8bc474f-3867-4e7c-9819-27372d0e4a5a",
   "metadata": {},
   "outputs": [],
   "source": [
    "search.matched()"
   ]
  },
  {
   "cell_type": "code",
   "execution_count": null,
   "id": "61287f84-bcc0-4707-bd09-3f53b41ee6cb",
   "metadata": {},
   "outputs": [],
   "source": [
    "item_collection = search.get_all_items()"
   ]
  },
  {
   "cell_type": "code",
   "execution_count": null,
   "id": "584a727e-8f5b-4ed3-93ed-c7260b2c9922",
   "metadata": {},
   "outputs": [],
   "source": [
    "item_collection"
   ]
  },
  {
   "cell_type": "code",
   "execution_count": null,
   "id": "0d460fa6-cf9d-4700-b13c-396e96054e40",
   "metadata": {},
   "outputs": [],
   "source": [
    "len(item_collection)"
   ]
  },
  {
   "cell_type": "code",
   "execution_count": null,
   "id": "5ea063e7-096c-489b-b175-5297804f53ec",
   "metadata": {},
   "outputs": [],
   "source": [
    "item_collection[0]"
   ]
  },
  {
   "cell_type": "code",
   "execution_count": null,
   "id": "b4c88bc1-5eb7-4421-9aec-ec57767730d3",
   "metadata": {},
   "outputs": [],
   "source": [
    "data_url = item_collection[0].assets['B04'].href\n",
    "data_url"
   ]
  },
  {
   "cell_type": "code",
   "execution_count": null,
   "id": "8e311f72-4134-4f28-b351-dac902ffb573",
   "metadata": {},
   "outputs": [],
   "source": [
    "s30_bands = ['B8A', 'B04', 'B02', 'Fmask'] "
   ]
  },
  {
   "cell_type": "code",
   "execution_count": null,
   "id": "433717ba-5297-4ca1-8997-b610254cd774",
   "metadata": {},
   "outputs": [],
   "source": [
    "band_links = []\n",
    "\n",
    "for i in item_collection:\n",
    "    if i.properties['eo:cloud_cover'] <= cloudcover:\n",
    "        if i.collection_id == 'HLSS30.v2.0':\n",
    "            # print(i.properties['eo:cloud_cover'])\n",
    "            bands = s30_bands\n",
    "        for a in i.assets:\n",
    "            if any(b==a for b in bands):\n",
    "                band_links.append(i.assets[a].href)"
   ]
  },
  {
   "cell_type": "code",
   "execution_count": null,
   "id": "b7d2b4b5-b929-477b-a441-f9adbb1d5ee9",
   "metadata": {},
   "outputs": [],
   "source": [
    "band_links[:10]"
   ]
  },
  {
   "cell_type": "code",
   "execution_count": null,
   "id": "c466fac0-dcfe-4b70-8de0-f4de526396e3",
   "metadata": {},
   "outputs": [],
   "source": [
    "tile_dicts = defaultdict(list)"
   ]
  },
  {
   "cell_type": "code",
   "execution_count": null,
   "id": "795ceac6-f8a2-47d3-86b9-060684dd7242",
   "metadata": {},
   "outputs": [],
   "source": [
    "for l in band_links:\n",
    "    tile = l.split('.')[-6]\n",
    "    tile_dicts[tile].append(l)"
   ]
  },
  {
   "cell_type": "code",
   "execution_count": null,
   "id": "5f7836e3-a4a5-4480-9cca-697cd1104799",
   "metadata": {},
   "outputs": [],
   "source": [
    "tile_dicts.keys()"
   ]
  },
  {
   "cell_type": "code",
   "execution_count": null,
   "id": "8e5c627b-6cd3-412d-adb4-45cbb9f30fdf",
   "metadata": {},
   "outputs": [],
   "source": [
    "tile_dicts['T14SMF'][:5]"
   ]
  },
  {
   "cell_type": "code",
   "execution_count": null,
   "id": "519ab02e-80d7-4051-9ddb-ee5e462410c6",
   "metadata": {},
   "outputs": [],
   "source": [
    "tile_links_T14SMF = tile_dicts['T14SMF']"
   ]
  },
  {
   "cell_type": "code",
   "execution_count": null,
   "id": "e46770d5-8cdf-4231-8114-b85313c27c75",
   "metadata": {},
   "outputs": [],
   "source": [
    "tile_links_T14SMF[:10]"
   ]
  },
  {
   "cell_type": "code",
   "execution_count": null,
   "id": "e6eba6ab-c1c3-42ea-af8e-d2999bc81484",
   "metadata": {},
   "outputs": [],
   "source": [
    "bands_dicts = defaultdict(list)"
   ]
  },
  {
   "cell_type": "code",
   "execution_count": null,
   "id": "f065b523-ff0d-4b06-9bb5-5142e38f463c",
   "metadata": {},
   "outputs": [],
   "source": [
    "for b in tile_links_T14SMF:\n",
    "    band = b.split('.')[-2]\n",
    "    bands_dicts[band].append(b)"
   ]
  },
  {
   "cell_type": "code",
   "execution_count": null,
   "id": "6e7a4a68-08df-4596-bb12-5e5e068271be",
   "metadata": {},
   "outputs": [],
   "source": [
    "bands_dicts.keys()"
   ]
  },
  {
   "cell_type": "code",
   "execution_count": null,
   "id": "c488450f-1bd9-4747-82c7-606f225e9587",
   "metadata": {},
   "outputs": [],
   "source": []
  }
 ],
 "metadata": {
  "kernelspec": {
   "display_name": "Python 3 (ipykernel)",
   "language": "python",
   "name": "python3"
  },
  "language_info": {
   "codemirror_mode": {
    "name": "ipython",
    "version": 3
   },
   "file_extension": ".py",
   "mimetype": "text/x-python",
   "name": "python",
   "nbconvert_exporter": "python",
   "pygments_lexer": "ipython3",
   "version": "3.8.10"
  }
 },
 "nbformat": 4,
 "nbformat_minor": 5
}
