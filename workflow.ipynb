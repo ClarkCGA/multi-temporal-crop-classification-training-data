{
 "cells": [
  {
   "cell_type": "code",
   "execution_count": 48,
   "id": "a5e493cc-09bc-4d70-8316-c8aa4021de9a",
   "metadata": {},
   "outputs": [],
   "source": [
    "import rioxarray \n",
    "import xarray\n",
    "import rasterio\n",
    "import nasa_hls\n",
    "import os\n",
    "import urllib.request as urlreq\n",
    "import pandas as pd\n",
    "import fiona\n",
    "import numpy as np\n",
    "from glob import glob\n",
    "from rasterio.enums import Resampling\n",
    "from rasterio import Affine\n",
    "from rasterio.crs import CRS\n",
    "import matplotlib.pyplot as plt\n",
    "from subprocess import Popen, PIPE\n",
    "\n",
    "%matplotlib inline"
   ]
  },
  {
   "cell_type": "code",
   "execution_count": 50,
   "id": "a17b27be-7dfe-43b1-a775-efe885235127",
   "metadata": {},
   "outputs": [],
   "source": [
    "##### START OPTIONS #####\n",
    "yoi = [2020]\n",
    "toi = ['15STT']\n",
    "root_path = \"/data/\"\n",
    "spath = root_path + f\"CDL_HLS_dataframe{yoi[0]}.csv\"\n",
    "image_index_file = root_path + f\"image_index{yoi[0]}.csv\"\n",
    "hdf_dir = root_path + \"hdf/\"\n",
    "chip_geojson_dir = root_path + 'chip_geojson/'\n",
    "chip_output_dir = root_path + 'chip_output/'\n",
    "#####  END OPTIONS  #####"
   ]
  },
  {
   "cell_type": "markdown",
   "id": "b61d21b7-d5a1-468f-ae9b-36a6aaa7f0f1",
   "metadata": {},
   "source": [
    "make folders if needed"
   ]
  },
  {
   "cell_type": "code",
   "execution_count": 34,
   "id": "8b4eee91-56f0-43f7-98a9-75a9c10aaf1b",
   "metadata": {},
   "outputs": [
    {
     "name": "stdout",
     "output_type": "stream",
     "text": [
      "pass\n"
     ]
    }
   ],
   "source": [
    "try:\n",
    "    os.makedirs(hdf_dir)\n",
    "except FileExistsError:\n",
    "    # directory already exists\n",
    "    print('pass')\n",
    "    pass\n"
   ]
  },
  {
   "cell_type": "markdown",
   "id": "ad736731-d5a5-4f32-b2fb-8580427c76f3",
   "metadata": {},
   "source": [
    "query and download hdf files"
   ]
  },
  {
   "cell_type": "code",
   "execution_count": 35,
   "id": "5e8c67cc-5e3f-4c79-9b97-5d32b9cbab41",
   "metadata": {},
   "outputs": [
    {
     "name": "stderr",
     "output_type": "stream",
     "text": [
      "100%|██████████| 1/1 [00:01<00:00,  1.00s/it]\n"
     ]
    }
   ],
   "source": [
    "HLSdf = nasa_hls.get_available_datasets(\n",
    "        years = yoi,\n",
    "        products = [\"S30\"],\n",
    "        tiles = toi,\n",
    "        return_list = False)\n",
    "        \n",
    "#HLSdf.to_csv(spath, mode='w')"
   ]
  },
  {
   "cell_type": "code",
   "execution_count": 21,
   "id": "2c21e9b4-5602-46af-85bd-da878fb8cf32",
   "metadata": {},
   "outputs": [],
   "source": [
    "for k in range(20):\n",
    "    url = HLSdf.at[k, \"url\"]\n",
    "    local_name = url.split('/')[-1].replace(\"\\n\", \"\").replace('.hdf', '')\n",
    "    HLSdf.at[k, \"image_id\"] = local_name\n",
    "    try:\n",
    "        urlreq.urlretrieve(url, filename = hdf_dir+local_name + '.hdf')\n",
    "    except:\n",
    "        print(local_name + \" failed\")\n",
    "        continue\n",
    "               \n",
    "HLSdf.to_csv(spath, mode='w')"
   ]
  },
  {
   "cell_type": "code",
   "execution_count": 39,
   "id": "8ee45316-1a9d-4ffb-ac6e-02ee95792792",
   "metadata": {},
   "outputs": [
    {
     "data": {
      "text/plain": [
       "['https://hls.gsfc.nasa.gov/data/v1.4/S30/2020/15/S/T/T/HLS.S30.T15STT.2020002.v1.4.hdf',\n",
       " 'https://hls.gsfc.nasa.gov/data/v1.4/S30/2020/15/S/T/T/HLS.S30.T15STT.2020005.v1.4.hdf',\n",
       " 'https://hls.gsfc.nasa.gov/data/v1.4/S30/2020/15/S/T/T/HLS.S30.T15STT.2020007.v1.4.hdf',\n",
       " 'https://hls.gsfc.nasa.gov/data/v1.4/S30/2020/15/S/T/T/HLS.S30.T15STT.2020010.v1.4.hdf',\n",
       " 'https://hls.gsfc.nasa.gov/data/v1.4/S30/2020/15/S/T/T/HLS.S30.T15STT.2020012.v1.4.hdf',\n",
       " 'https://hls.gsfc.nasa.gov/data/v1.4/S30/2020/15/S/T/T/HLS.S30.T15STT.2020015.v1.4.hdf',\n",
       " 'https://hls.gsfc.nasa.gov/data/v1.4/S30/2020/15/S/T/T/HLS.S30.T15STT.2020017.v1.4.hdf',\n",
       " 'https://hls.gsfc.nasa.gov/data/v1.4/S30/2020/15/S/T/T/HLS.S30.T15STT.2020020.v1.4.hdf',\n",
       " 'https://hls.gsfc.nasa.gov/data/v1.4/S30/2020/15/S/T/T/HLS.S30.T15STT.2020022.v1.4.hdf',\n",
       " 'https://hls.gsfc.nasa.gov/data/v1.4/S30/2020/15/S/T/T/HLS.S30.T15STT.2020025.v1.4.hdf',\n",
       " 'https://hls.gsfc.nasa.gov/data/v1.4/S30/2020/15/S/T/T/HLS.S30.T15STT.2020027.v1.4.hdf',\n",
       " 'https://hls.gsfc.nasa.gov/data/v1.4/S30/2020/15/S/T/T/HLS.S30.T15STT.2020030.v1.4.hdf',\n",
       " 'https://hls.gsfc.nasa.gov/data/v1.4/S30/2020/15/S/T/T/HLS.S30.T15STT.2020032.v1.4.hdf',\n",
       " 'https://hls.gsfc.nasa.gov/data/v1.4/S30/2020/15/S/T/T/HLS.S30.T15STT.2020035.v1.4.hdf',\n",
       " 'https://hls.gsfc.nasa.gov/data/v1.4/S30/2020/15/S/T/T/HLS.S30.T15STT.2020040.v1.4.hdf',\n",
       " 'https://hls.gsfc.nasa.gov/data/v1.4/S30/2020/15/S/T/T/HLS.S30.T15STT.2020042.v1.4.hdf',\n",
       " 'https://hls.gsfc.nasa.gov/data/v1.4/S30/2020/15/S/T/T/HLS.S30.T15STT.2020045.v1.4.hdf',\n",
       " 'https://hls.gsfc.nasa.gov/data/v1.4/S30/2020/15/S/T/T/HLS.S30.T15STT.2020047.v1.4.hdf',\n",
       " 'https://hls.gsfc.nasa.gov/data/v1.4/S30/2020/15/S/T/T/HLS.S30.T15STT.2020050.v1.4.hdf',\n",
       " 'https://hls.gsfc.nasa.gov/data/v1.4/S30/2020/15/S/T/T/HLS.S30.T15STT.2020052.v1.4.hdf',\n",
       " 'https://hls.gsfc.nasa.gov/data/v1.4/S30/2020/15/S/T/T/HLS.S30.T15STT.2020055.v1.4.hdf',\n",
       " 'https://hls.gsfc.nasa.gov/data/v1.4/S30/2020/15/S/T/T/HLS.S30.T15STT.2020057.v1.4.hdf',\n",
       " 'https://hls.gsfc.nasa.gov/data/v1.4/S30/2020/15/S/T/T/HLS.S30.T15STT.2020060.v1.4.hdf',\n",
       " 'https://hls.gsfc.nasa.gov/data/v1.4/S30/2020/15/S/T/T/HLS.S30.T15STT.2020062.v1.4.hdf',\n",
       " 'https://hls.gsfc.nasa.gov/data/v1.4/S30/2020/15/S/T/T/HLS.S30.T15STT.2020065.v1.4.hdf',\n",
       " 'https://hls.gsfc.nasa.gov/data/v1.4/S30/2020/15/S/T/T/HLS.S30.T15STT.2020067.v1.4.hdf',\n",
       " 'https://hls.gsfc.nasa.gov/data/v1.4/S30/2020/15/S/T/T/HLS.S30.T15STT.2020070.v1.4.hdf',\n",
       " 'https://hls.gsfc.nasa.gov/data/v1.4/S30/2020/15/S/T/T/HLS.S30.T15STT.2020075.v1.4.hdf',\n",
       " 'https://hls.gsfc.nasa.gov/data/v1.4/S30/2020/15/S/T/T/HLS.S30.T15STT.2020077.v1.4.hdf',\n",
       " 'https://hls.gsfc.nasa.gov/data/v1.4/S30/2020/15/S/T/T/HLS.S30.T15STT.2020080.v1.4.hdf',\n",
       " 'https://hls.gsfc.nasa.gov/data/v1.4/S30/2020/15/S/T/T/HLS.S30.T15STT.2020082.v1.4.hdf',\n",
       " 'https://hls.gsfc.nasa.gov/data/v1.4/S30/2020/15/S/T/T/HLS.S30.T15STT.2020085.v1.4.hdf',\n",
       " 'https://hls.gsfc.nasa.gov/data/v1.4/S30/2020/15/S/T/T/HLS.S30.T15STT.2020090.v1.4.hdf',\n",
       " 'https://hls.gsfc.nasa.gov/data/v1.4/S30/2020/15/S/T/T/HLS.S30.T15STT.2020092.v1.4.hdf',\n",
       " 'https://hls.gsfc.nasa.gov/data/v1.4/S30/2020/15/S/T/T/HLS.S30.T15STT.2020095.v1.4.hdf',\n",
       " 'https://hls.gsfc.nasa.gov/data/v1.4/S30/2020/15/S/T/T/HLS.S30.T15STT.2020097.v1.4.hdf',\n",
       " 'https://hls.gsfc.nasa.gov/data/v1.4/S30/2020/15/S/T/T/HLS.S30.T15STT.2020100.v1.4.hdf',\n",
       " 'https://hls.gsfc.nasa.gov/data/v1.4/S30/2020/15/S/T/T/HLS.S30.T15STT.2020102.v1.4.hdf',\n",
       " 'https://hls.gsfc.nasa.gov/data/v1.4/S30/2020/15/S/T/T/HLS.S30.T15STT.2020105.v1.4.hdf',\n",
       " 'https://hls.gsfc.nasa.gov/data/v1.4/S30/2020/15/S/T/T/HLS.S30.T15STT.2020107.v1.4.hdf',\n",
       " 'https://hls.gsfc.nasa.gov/data/v1.4/S30/2020/15/S/T/T/HLS.S30.T15STT.2020110.v1.4.hdf',\n",
       " 'https://hls.gsfc.nasa.gov/data/v1.4/S30/2020/15/S/T/T/HLS.S30.T15STT.2020112.v1.4.hdf',\n",
       " 'https://hls.gsfc.nasa.gov/data/v1.4/S30/2020/15/S/T/T/HLS.S30.T15STT.2020115.v1.4.hdf',\n",
       " 'https://hls.gsfc.nasa.gov/data/v1.4/S30/2020/15/S/T/T/HLS.S30.T15STT.2020117.v1.4.hdf',\n",
       " 'https://hls.gsfc.nasa.gov/data/v1.4/S30/2020/15/S/T/T/HLS.S30.T15STT.2020120.v1.4.hdf',\n",
       " 'https://hls.gsfc.nasa.gov/data/v1.4/S30/2020/15/S/T/T/HLS.S30.T15STT.2020122.v1.4.hdf',\n",
       " 'https://hls.gsfc.nasa.gov/data/v1.4/S30/2020/15/S/T/T/HLS.S30.T15STT.2020125.v1.4.hdf',\n",
       " 'https://hls.gsfc.nasa.gov/data/v1.4/S30/2020/15/S/T/T/HLS.S30.T15STT.2020127.v1.4.hdf',\n",
       " 'https://hls.gsfc.nasa.gov/data/v1.4/S30/2020/15/S/T/T/HLS.S30.T15STT.2020130.v1.4.hdf',\n",
       " 'https://hls.gsfc.nasa.gov/data/v1.4/S30/2020/15/S/T/T/HLS.S30.T15STT.2020132.v1.4.hdf',\n",
       " 'https://hls.gsfc.nasa.gov/data/v1.4/S30/2020/15/S/T/T/HLS.S30.T15STT.2020135.v1.4.hdf',\n",
       " 'https://hls.gsfc.nasa.gov/data/v1.4/S30/2020/15/S/T/T/HLS.S30.T15STT.2020137.v1.4.hdf',\n",
       " 'https://hls.gsfc.nasa.gov/data/v1.4/S30/2020/15/S/T/T/HLS.S30.T15STT.2020140.v1.4.hdf',\n",
       " 'https://hls.gsfc.nasa.gov/data/v1.4/S30/2020/15/S/T/T/HLS.S30.T15STT.2020142.v1.4.hdf',\n",
       " 'https://hls.gsfc.nasa.gov/data/v1.4/S30/2020/15/S/T/T/HLS.S30.T15STT.2020145.v1.4.hdf',\n",
       " 'https://hls.gsfc.nasa.gov/data/v1.4/S30/2020/15/S/T/T/HLS.S30.T15STT.2020147.v1.4.hdf',\n",
       " 'https://hls.gsfc.nasa.gov/data/v1.4/S30/2020/15/S/T/T/HLS.S30.T15STT.2020150.v1.4.hdf',\n",
       " 'https://hls.gsfc.nasa.gov/data/v1.4/S30/2020/15/S/T/T/HLS.S30.T15STT.2020152.v1.4.hdf',\n",
       " 'https://hls.gsfc.nasa.gov/data/v1.4/S30/2020/15/S/T/T/HLS.S30.T15STT.2020155.v1.4.hdf',\n",
       " 'https://hls.gsfc.nasa.gov/data/v1.4/S30/2020/15/S/T/T/HLS.S30.T15STT.2020157.v1.4.hdf',\n",
       " 'https://hls.gsfc.nasa.gov/data/v1.4/S30/2020/15/S/T/T/HLS.S30.T15STT.2020160.v1.4.hdf',\n",
       " 'https://hls.gsfc.nasa.gov/data/v1.4/S30/2020/15/S/T/T/HLS.S30.T15STT.2020162.v1.4.hdf',\n",
       " 'https://hls.gsfc.nasa.gov/data/v1.4/S30/2020/15/S/T/T/HLS.S30.T15STT.2020165.v1.4.hdf',\n",
       " 'https://hls.gsfc.nasa.gov/data/v1.4/S30/2020/15/S/T/T/HLS.S30.T15STT.2020167.v1.4.hdf',\n",
       " 'https://hls.gsfc.nasa.gov/data/v1.4/S30/2020/15/S/T/T/HLS.S30.T15STT.2020170.v1.4.hdf',\n",
       " 'https://hls.gsfc.nasa.gov/data/v1.4/S30/2020/15/S/T/T/HLS.S30.T15STT.2020172.v1.4.hdf',\n",
       " 'https://hls.gsfc.nasa.gov/data/v1.4/S30/2020/15/S/T/T/HLS.S30.T15STT.2020175.v1.4.hdf',\n",
       " 'https://hls.gsfc.nasa.gov/data/v1.4/S30/2020/15/S/T/T/HLS.S30.T15STT.2020177.v1.4.hdf',\n",
       " 'https://hls.gsfc.nasa.gov/data/v1.4/S30/2020/15/S/T/T/HLS.S30.T15STT.2020180.v1.4.hdf',\n",
       " 'https://hls.gsfc.nasa.gov/data/v1.4/S30/2020/15/S/T/T/HLS.S30.T15STT.2020182.v1.4.hdf',\n",
       " 'https://hls.gsfc.nasa.gov/data/v1.4/S30/2020/15/S/T/T/HLS.S30.T15STT.2020185.v1.4.hdf',\n",
       " 'https://hls.gsfc.nasa.gov/data/v1.4/S30/2020/15/S/T/T/HLS.S30.T15STT.2020187.v1.4.hdf',\n",
       " 'https://hls.gsfc.nasa.gov/data/v1.4/S30/2020/15/S/T/T/HLS.S30.T15STT.2020190.v1.4.hdf',\n",
       " 'https://hls.gsfc.nasa.gov/data/v1.4/S30/2020/15/S/T/T/HLS.S30.T15STT.2020192.v1.4.hdf',\n",
       " 'https://hls.gsfc.nasa.gov/data/v1.4/S30/2020/15/S/T/T/HLS.S30.T15STT.2020195.v1.4.hdf',\n",
       " 'https://hls.gsfc.nasa.gov/data/v1.4/S30/2020/15/S/T/T/HLS.S30.T15STT.2020197.v1.4.hdf',\n",
       " 'https://hls.gsfc.nasa.gov/data/v1.4/S30/2020/15/S/T/T/HLS.S30.T15STT.2020200.v1.4.hdf',\n",
       " 'https://hls.gsfc.nasa.gov/data/v1.4/S30/2020/15/S/T/T/HLS.S30.T15STT.2020202.v1.4.hdf',\n",
       " 'https://hls.gsfc.nasa.gov/data/v1.4/S30/2020/15/S/T/T/HLS.S30.T15STT.2020205.v1.4.hdf',\n",
       " 'https://hls.gsfc.nasa.gov/data/v1.4/S30/2020/15/S/T/T/HLS.S30.T15STT.2020207.v1.4.hdf',\n",
       " 'https://hls.gsfc.nasa.gov/data/v1.4/S30/2020/15/S/T/T/HLS.S30.T15STT.2020210.v1.4.hdf',\n",
       " 'https://hls.gsfc.nasa.gov/data/v1.4/S30/2020/15/S/T/T/HLS.S30.T15STT.2020212.v1.4.hdf',\n",
       " 'https://hls.gsfc.nasa.gov/data/v1.4/S30/2020/15/S/T/T/HLS.S30.T15STT.2020215.v1.4.hdf',\n",
       " 'https://hls.gsfc.nasa.gov/data/v1.4/S30/2020/15/S/T/T/HLS.S30.T15STT.2020217.v1.4.hdf',\n",
       " 'https://hls.gsfc.nasa.gov/data/v1.4/S30/2020/15/S/T/T/HLS.S30.T15STT.2020220.v1.4.hdf',\n",
       " 'https://hls.gsfc.nasa.gov/data/v1.4/S30/2020/15/S/T/T/HLS.S30.T15STT.2020222.v1.4.hdf',\n",
       " 'https://hls.gsfc.nasa.gov/data/v1.4/S30/2020/15/S/T/T/HLS.S30.T15STT.2020225.v1.4.hdf',\n",
       " 'https://hls.gsfc.nasa.gov/data/v1.4/S30/2020/15/S/T/T/HLS.S30.T15STT.2020227.v1.4.hdf',\n",
       " 'https://hls.gsfc.nasa.gov/data/v1.4/S30/2020/15/S/T/T/HLS.S30.T15STT.2020230.v1.4.hdf',\n",
       " 'https://hls.gsfc.nasa.gov/data/v1.4/S30/2020/15/S/T/T/HLS.S30.T15STT.2020232.v1.4.hdf',\n",
       " 'https://hls.gsfc.nasa.gov/data/v1.4/S30/2020/15/S/T/T/HLS.S30.T15STT.2020235.v1.4.hdf',\n",
       " 'https://hls.gsfc.nasa.gov/data/v1.4/S30/2020/15/S/T/T/HLS.S30.T15STT.2020237.v1.4.hdf',\n",
       " 'https://hls.gsfc.nasa.gov/data/v1.4/S30/2020/15/S/T/T/HLS.S30.T15STT.2020240.v1.4.hdf',\n",
       " 'https://hls.gsfc.nasa.gov/data/v1.4/S30/2020/15/S/T/T/HLS.S30.T15STT.2020242.v1.4.hdf',\n",
       " 'https://hls.gsfc.nasa.gov/data/v1.4/S30/2020/15/S/T/T/HLS.S30.T15STT.2020245.v1.4.hdf',\n",
       " 'https://hls.gsfc.nasa.gov/data/v1.4/S30/2020/15/S/T/T/HLS.S30.T15STT.2020247.v1.4.hdf',\n",
       " 'https://hls.gsfc.nasa.gov/data/v1.4/S30/2020/15/S/T/T/HLS.S30.T15STT.2020250.v1.4.hdf',\n",
       " 'https://hls.gsfc.nasa.gov/data/v1.4/S30/2020/15/S/T/T/HLS.S30.T15STT.2020252.v1.4.hdf',\n",
       " 'https://hls.gsfc.nasa.gov/data/v1.4/S30/2020/15/S/T/T/HLS.S30.T15STT.2020255.v1.4.hdf',\n",
       " 'https://hls.gsfc.nasa.gov/data/v1.4/S30/2020/15/S/T/T/HLS.S30.T15STT.2020257.v1.4.hdf',\n",
       " 'https://hls.gsfc.nasa.gov/data/v1.4/S30/2020/15/S/T/T/HLS.S30.T15STT.2020265.v1.4.hdf',\n",
       " 'https://hls.gsfc.nasa.gov/data/v1.4/S30/2020/15/S/T/T/HLS.S30.T15STT.2020267.v1.4.hdf',\n",
       " 'https://hls.gsfc.nasa.gov/data/v1.4/S30/2020/15/S/T/T/HLS.S30.T15STT.2020270.v1.4.hdf',\n",
       " 'https://hls.gsfc.nasa.gov/data/v1.4/S30/2020/15/S/T/T/HLS.S30.T15STT.2020272.v1.4.hdf',\n",
       " 'https://hls.gsfc.nasa.gov/data/v1.4/S30/2020/15/S/T/T/HLS.S30.T15STT.2020275.v1.4.hdf',\n",
       " 'https://hls.gsfc.nasa.gov/data/v1.4/S30/2020/15/S/T/T/HLS.S30.T15STT.2020277.v1.4.hdf',\n",
       " 'https://hls.gsfc.nasa.gov/data/v1.4/S30/2020/15/S/T/T/HLS.S30.T15STT.2020280.v1.4.hdf',\n",
       " 'https://hls.gsfc.nasa.gov/data/v1.4/S30/2020/15/S/T/T/HLS.S30.T15STT.2020282.v1.4.hdf',\n",
       " 'https://hls.gsfc.nasa.gov/data/v1.4/S30/2020/15/S/T/T/HLS.S30.T15STT.2020285.v1.4.hdf',\n",
       " 'https://hls.gsfc.nasa.gov/data/v1.4/S30/2020/15/S/T/T/HLS.S30.T15STT.2020287.v1.4.hdf',\n",
       " 'https://hls.gsfc.nasa.gov/data/v1.4/S30/2020/15/S/T/T/HLS.S30.T15STT.2020290.v1.4.hdf',\n",
       " 'https://hls.gsfc.nasa.gov/data/v1.4/S30/2020/15/S/T/T/HLS.S30.T15STT.2020292.v1.4.hdf',\n",
       " 'https://hls.gsfc.nasa.gov/data/v1.4/S30/2020/15/S/T/T/HLS.S30.T15STT.2020295.v1.4.hdf',\n",
       " 'https://hls.gsfc.nasa.gov/data/v1.4/S30/2020/15/S/T/T/HLS.S30.T15STT.2020297.v1.4.hdf',\n",
       " 'https://hls.gsfc.nasa.gov/data/v1.4/S30/2020/15/S/T/T/HLS.S30.T15STT.2020300.v1.4.hdf',\n",
       " 'https://hls.gsfc.nasa.gov/data/v1.4/S30/2020/15/S/T/T/HLS.S30.T15STT.2020302.v1.4.hdf',\n",
       " 'https://hls.gsfc.nasa.gov/data/v1.4/S30/2020/15/S/T/T/HLS.S30.T15STT.2020305.v1.4.hdf',\n",
       " 'https://hls.gsfc.nasa.gov/data/v1.4/S30/2020/15/S/T/T/HLS.S30.T15STT.2020307.v1.4.hdf',\n",
       " 'https://hls.gsfc.nasa.gov/data/v1.4/S30/2020/15/S/T/T/HLS.S30.T15STT.2020310.v1.4.hdf',\n",
       " 'https://hls.gsfc.nasa.gov/data/v1.4/S30/2020/15/S/T/T/HLS.S30.T15STT.2020312.v1.4.hdf',\n",
       " 'https://hls.gsfc.nasa.gov/data/v1.4/S30/2020/15/S/T/T/HLS.S30.T15STT.2020315.v1.4.hdf',\n",
       " 'https://hls.gsfc.nasa.gov/data/v1.4/S30/2020/15/S/T/T/HLS.S30.T15STT.2020317.v1.4.hdf',\n",
       " 'https://hls.gsfc.nasa.gov/data/v1.4/S30/2020/15/S/T/T/HLS.S30.T15STT.2020320.v1.4.hdf',\n",
       " 'https://hls.gsfc.nasa.gov/data/v1.4/S30/2020/15/S/T/T/HLS.S30.T15STT.2020322.v1.4.hdf',\n",
       " 'https://hls.gsfc.nasa.gov/data/v1.4/S30/2020/15/S/T/T/HLS.S30.T15STT.2020325.v1.4.hdf',\n",
       " 'https://hls.gsfc.nasa.gov/data/v1.4/S30/2020/15/S/T/T/HLS.S30.T15STT.2020330.v1.4.hdf',\n",
       " 'https://hls.gsfc.nasa.gov/data/v1.4/S30/2020/15/S/T/T/HLS.S30.T15STT.2020332.v1.4.hdf',\n",
       " 'https://hls.gsfc.nasa.gov/data/v1.4/S30/2020/15/S/T/T/HLS.S30.T15STT.2020335.v1.4.hdf',\n",
       " 'https://hls.gsfc.nasa.gov/data/v1.4/S30/2020/15/S/T/T/HLS.S30.T15STT.2020337.v1.4.hdf',\n",
       " 'https://hls.gsfc.nasa.gov/data/v1.4/S30/2020/15/S/T/T/HLS.S30.T15STT.2020340.v1.4.hdf',\n",
       " 'https://hls.gsfc.nasa.gov/data/v1.4/S30/2020/15/S/T/T/HLS.S30.T15STT.2020342.v1.4.hdf',\n",
       " 'https://hls.gsfc.nasa.gov/data/v1.4/S30/2020/15/S/T/T/HLS.S30.T15STT.2020345.v1.4.hdf',\n",
       " 'https://hls.gsfc.nasa.gov/data/v1.4/S30/2020/15/S/T/T/HLS.S30.T15STT.2020347.v1.4.hdf',\n",
       " 'https://hls.gsfc.nasa.gov/data/v1.4/S30/2020/15/S/T/T/HLS.S30.T15STT.2020350.v1.4.hdf',\n",
       " 'https://hls.gsfc.nasa.gov/data/v1.4/S30/2020/15/S/T/T/HLS.S30.T15STT.2020352.v1.4.hdf',\n",
       " 'https://hls.gsfc.nasa.gov/data/v1.4/S30/2020/15/S/T/T/HLS.S30.T15STT.2020355.v1.4.hdf',\n",
       " 'https://hls.gsfc.nasa.gov/data/v1.4/S30/2020/15/S/T/T/HLS.S30.T15STT.2020357.v1.4.hdf',\n",
       " 'https://hls.gsfc.nasa.gov/data/v1.4/S30/2020/15/S/T/T/HLS.S30.T15STT.2020360.v1.4.hdf',\n",
       " 'https://hls.gsfc.nasa.gov/data/v1.4/S30/2020/15/S/T/T/HLS.S30.T15STT.2020362.v1.4.hdf',\n",
       " 'https://hls.gsfc.nasa.gov/data/v1.4/S30/2020/15/S/T/T/HLS.S30.T15STT.2020365.v1.4.hdf']"
      ]
     },
     "execution_count": 39,
     "metadata": {},
     "output_type": "execute_result"
    }
   ],
   "source": [
    "HLSdf['url'].tolist()"
   ]
  },
  {
   "cell_type": "markdown",
   "id": "58b07887-edf0-4076-bd16-a8173cc098ca",
   "metadata": {},
   "source": [
    "extract hdf metadata, filter to 3 scenes per tile"
   ]
  },
  {
   "cell_type": "code",
   "execution_count": 4,
   "id": "0afa7935-6c59-437b-b7db-a126599ac27b",
   "metadata": {},
   "outputs": [],
   "source": [
    "def get_metadata_from_hdf_mine(src, fields=[\"cloud_cover\", \"spatial_coverage\"]):\n",
    "    \"\"\"Get metadata from a nasa-hls hdf file. See HLS user guide for valid fields.\n",
    "    \n",
    "    HLS User Guide - see Section 6.6: \n",
    "    \n",
    "    https://hls.gsfc.nasa.gov/wp-content/uploads/2019/01/HLS.v1.4.UserGuide_draft_ver3.1.pdf\n",
    "    \"\"\"\n",
    "    band=\"QA\"\n",
    "    cmd = f'gdalinfo HDF4_EOS:EOS_GRID:\"{src}\":Grid:{band}'\n",
    "    print('cmd')\n",
    "    print(cmd)\n",
    "    p = Popen(cmd, stdout=PIPE, shell=True)\n",
    "    output, err = p.communicate()\n",
    "    output = str(output)[2:-1].replace(\"\\\\n\", \"\\n\")\n",
    "    rc = p.returncode\n",
    "    metadata = {}\n",
    "    for line in output.split(\"\\n\"):\n",
    "        for field in fields:\n",
    "            if field in line:\n",
    "                metadata[field] = line.split(\"=\")[1].strip()\n",
    "                try:\n",
    "                    metadata[field] = float(metadata[field])\n",
    "                except:\n",
    "                    pass\n",
    "    for field in fields:\n",
    "        if field not in metadata.keys():\n",
    "            warnings.warn(f\"Could not find metadata for field '{field}'.\")\n",
    "    return metadata"
   ]
  },
  {
   "cell_type": "code",
   "execution_count": 5,
   "id": "35173684-e5bc-42cf-8ba9-47623fa093c8",
   "metadata": {},
   "outputs": [
    {
     "name": "stdout",
     "output_type": "stream",
     "text": [
      "/data/hdf/HLS.S30.T15STT.2020002.v1.4.hdf\n",
      "/data/hdf/HLS.S30.T15STT.2020002.v1.4.hdf\n",
      "cmd\n",
      "gdalinfo HDF4_EOS:EOS_GRID:\"/data/hdf/HLS.S30.T15STT.2020002.v1.4.hdf\":Grid:QA\n",
      "{'cloud_cover': 100.0, 'spatial_coverage': 100.0}\n",
      "/data/hdf/HLS.S30.T15STT.2020005.v1.4.hdf\n",
      "/data/hdf/HLS.S30.T15STT.2020005.v1.4.hdf\n",
      "cmd\n",
      "gdalinfo HDF4_EOS:EOS_GRID:\"/data/hdf/HLS.S30.T15STT.2020005.v1.4.hdf\":Grid:QA\n",
      "{'cloud_cover': 1.0, 'spatial_coverage': 6.0}\n",
      "/data/hdf/HLS.S30.T15STT.2020007.v1.4.hdf\n",
      "/data/hdf/HLS.S30.T15STT.2020007.v1.4.hdf\n",
      "cmd\n",
      "gdalinfo HDF4_EOS:EOS_GRID:\"/data/hdf/HLS.S30.T15STT.2020007.v1.4.hdf\":Grid:QA\n",
      "{'cloud_cover': 2.0, 'spatial_coverage': 100.0}\n",
      "/data/hdf/HLS.S30.T15STT.2020010.v1.4.hdf\n",
      "/data/hdf/HLS.S30.T15STT.2020010.v1.4.hdf\n",
      "cmd\n",
      "gdalinfo HDF4_EOS:EOS_GRID:\"/data/hdf/HLS.S30.T15STT.2020010.v1.4.hdf\":Grid:QA\n",
      "{'cloud_cover': 94.0, 'spatial_coverage': 6.0}\n",
      "/data/hdf/HLS.S30.T15STT.2020012.v1.4.hdf\n",
      "/data/hdf/HLS.S30.T15STT.2020012.v1.4.hdf\n",
      "cmd\n",
      "gdalinfo HDF4_EOS:EOS_GRID:\"/data/hdf/HLS.S30.T15STT.2020012.v1.4.hdf\":Grid:QA\n",
      "{'cloud_cover': 96.0, 'spatial_coverage': 100.0}\n",
      "/data/hdf/HLS.S30.T15STT.2020015.v1.4.hdf\n",
      "/data/hdf/HLS.S30.T15STT.2020015.v1.4.hdf\n",
      "cmd\n",
      "gdalinfo HDF4_EOS:EOS_GRID:\"/data/hdf/HLS.S30.T15STT.2020015.v1.4.hdf\":Grid:QA\n",
      "{'cloud_cover': 100.0, 'spatial_coverage': 6.0}\n",
      "/data/hdf/HLS.S30.T15STT.2020017.v1.4.hdf\n",
      "/data/hdf/HLS.S30.T15STT.2020017.v1.4.hdf\n",
      "cmd\n",
      "gdalinfo HDF4_EOS:EOS_GRID:\"/data/hdf/HLS.S30.T15STT.2020017.v1.4.hdf\":Grid:QA\n",
      "{'cloud_cover': 100.0, 'spatial_coverage': 100.0}\n",
      "/data/hdf/HLS.S30.T15STT.2020020.v1.4.hdf\n",
      "/data/hdf/HLS.S30.T15STT.2020020.v1.4.hdf\n",
      "cmd\n",
      "gdalinfo HDF4_EOS:EOS_GRID:\"/data/hdf/HLS.S30.T15STT.2020020.v1.4.hdf\":Grid:QA\n",
      "{'cloud_cover': 0.0, 'spatial_coverage': 6.0}\n",
      "/data/hdf/HLS.S30.T15STT.2020022.v1.4.hdf\n",
      "/data/hdf/HLS.S30.T15STT.2020022.v1.4.hdf\n",
      "cmd\n",
      "gdalinfo HDF4_EOS:EOS_GRID:\"/data/hdf/HLS.S30.T15STT.2020022.v1.4.hdf\":Grid:QA\n",
      "{'cloud_cover': 100.0, 'spatial_coverage': 100.0}\n",
      "/data/hdf/HLS.S30.T15STT.2020025.v1.4.hdf\n",
      "/data/hdf/HLS.S30.T15STT.2020025.v1.4.hdf\n",
      "cmd\n",
      "gdalinfo HDF4_EOS:EOS_GRID:\"/data/hdf/HLS.S30.T15STT.2020025.v1.4.hdf\":Grid:QA\n",
      "{'cloud_cover': 4.0, 'spatial_coverage': 6.0}\n",
      "/data/hdf/HLS.S30.T15STT.2020027.v1.4.hdf\n",
      "/data/hdf/HLS.S30.T15STT.2020027.v1.4.hdf\n",
      "cmd\n",
      "gdalinfo HDF4_EOS:EOS_GRID:\"/data/hdf/HLS.S30.T15STT.2020027.v1.4.hdf\":Grid:QA\n",
      "{'cloud_cover': 100.0, 'spatial_coverage': 100.0}\n",
      "/data/hdf/HLS.S30.T15STT.2020030.v1.4.hdf\n",
      "/data/hdf/HLS.S30.T15STT.2020030.v1.4.hdf\n",
      "cmd\n",
      "gdalinfo HDF4_EOS:EOS_GRID:\"/data/hdf/HLS.S30.T15STT.2020030.v1.4.hdf\":Grid:QA\n",
      "{'cloud_cover': 100.0, 'spatial_coverage': 6.0}\n",
      "/data/hdf/HLS.S30.T15STT.2020032.v1.4.hdf\n",
      "/data/hdf/HLS.S30.T15STT.2020032.v1.4.hdf\n",
      "cmd\n",
      "gdalinfo HDF4_EOS:EOS_GRID:\"/data/hdf/HLS.S30.T15STT.2020032.v1.4.hdf\":Grid:QA\n",
      "{'cloud_cover': 3.0, 'spatial_coverage': 100.0}\n",
      "/data/hdf/HLS.S30.T15STT.2020035.v1.4.hdf\n",
      "/data/hdf/HLS.S30.T15STT.2020035.v1.4.hdf\n",
      "cmd\n",
      "gdalinfo HDF4_EOS:EOS_GRID:\"/data/hdf/HLS.S30.T15STT.2020035.v1.4.hdf\":Grid:QA\n",
      "{'cloud_cover': 100.0, 'spatial_coverage': 6.0}\n",
      "/data/hdf/HLS.S30.T15STT.2020040.v1.4.hdf\n",
      "/data/hdf/HLS.S30.T15STT.2020040.v1.4.hdf\n",
      "cmd\n",
      "gdalinfo HDF4_EOS:EOS_GRID:\"/data/hdf/HLS.S30.T15STT.2020040.v1.4.hdf\":Grid:QA\n",
      "{'cloud_cover': 100.0, 'spatial_coverage': 6.0}\n",
      "/data/hdf/HLS.S30.T15STT.2020042.v1.4.hdf\n",
      "/data/hdf/HLS.S30.T15STT.2020042.v1.4.hdf\n",
      "cmd\n",
      "gdalinfo HDF4_EOS:EOS_GRID:\"/data/hdf/HLS.S30.T15STT.2020042.v1.4.hdf\":Grid:QA\n",
      "{'cloud_cover': 100.0, 'spatial_coverage': 100.0}\n",
      "/data/hdf/HLS.S30.T15STT.2020045.v1.4.hdf\n",
      "/data/hdf/HLS.S30.T15STT.2020045.v1.4.hdf\n",
      "cmd\n",
      "gdalinfo HDF4_EOS:EOS_GRID:\"/data/hdf/HLS.S30.T15STT.2020045.v1.4.hdf\":Grid:QA\n",
      "{'cloud_cover': 1.0, 'spatial_coverage': 6.0}\n",
      "/data/hdf/HLS.S30.T15STT.2020047.v1.4.hdf\n",
      "/data/hdf/HLS.S30.T15STT.2020047.v1.4.hdf\n",
      "cmd\n",
      "gdalinfo HDF4_EOS:EOS_GRID:\"/data/hdf/HLS.S30.T15STT.2020047.v1.4.hdf\":Grid:QA\n",
      "{'cloud_cover': 69.0, 'spatial_coverage': 100.0}\n",
      "/data/hdf/HLS.S30.T15STT.2020050.v1.4.hdf\n",
      "/data/hdf/HLS.S30.T15STT.2020050.v1.4.hdf\n",
      "cmd\n",
      "gdalinfo HDF4_EOS:EOS_GRID:\"/data/hdf/HLS.S30.T15STT.2020050.v1.4.hdf\":Grid:QA\n",
      "{'cloud_cover': 100.0, 'spatial_coverage': 6.0}\n",
      "/data/hdf/HLS.S30.T15STT.2020052.v1.4.hdf\n",
      "/data/hdf/HLS.S30.T15STT.2020052.v1.4.hdf\n",
      "cmd\n",
      "gdalinfo HDF4_EOS:EOS_GRID:\"/data/hdf/HLS.S30.T15STT.2020052.v1.4.hdf\":Grid:QA\n",
      "{'cloud_cover': 70.0, 'spatial_coverage': 100.0}\n"
     ]
    }
   ],
   "source": [
    "image_index = pd.DataFrame(columns = ['image_id', 'tile', 'date', 'month', 'cloud_coverage', 'spatial_coverage'])\n",
    "\n",
    "candidate_hdf = sorted(glob(hdf_dir + '*.hdf'))\n",
    "\n",
    "for img in candidate_hdf:\n",
    "    print(img)\n",
    "    local_name = img.split('/')[-1]\n",
    "    try:\n",
    "        print(hdf_dir+local_name)\n",
    "        md = get_metadata_from_hdf_mine(hdf_dir+local_name)\n",
    "    except:\n",
    "        print(img + ' skipped')\n",
    "        continue\n",
    "    print(md)\n",
    "    cloud_cover = int(md['cloud_cover'])\n",
    "    spatial_coverage = int(md['spatial_coverage'])\n",
    "    image_id = local_name.replace('.hdf', '')\n",
    "    tname = local_name.split('.')[2]\n",
    "    date = local_name.split('.')[3]\n",
    "    image_date_string = image_id.split('.')[3]\n",
    "    image_date = pd.to_datetime(image_date_string, format=\"%Y%j\").date()\n",
    "    image_month = image_date.month\n",
    "    \n",
    "    new_row = pd.DataFrame({'image_id':  [image_id],\n",
    "               'tile': [tname],\n",
    "               'date': [image_date],\n",
    "               'month': [image_month],\n",
    "               'cloud_coverage': [cloud_cover],\n",
    "               'spatial_coverage': [spatial_coverage]})\n",
    "    image_index = pd.concat([image_index, new_row], ignore_index = True)\n",
    "\n",
    "\n",
    "image_index.to_csv(image_index_file)"
   ]
  },
  {
   "cell_type": "code",
   "execution_count": 6,
   "id": "d600d795-a769-4e90-8bb1-30c5ef9aa383",
   "metadata": {},
   "outputs": [
    {
     "data": {
      "text/plain": [
       "['HLS.S30.T15STT.2020002.v1.4',\n",
       " 'HLS.S30.T15STT.2020005.v1.4',\n",
       " 'HLS.S30.T15STT.2020007.v1.4',\n",
       " 'HLS.S30.T15STT.2020010.v1.4',\n",
       " 'HLS.S30.T15STT.2020012.v1.4',\n",
       " 'HLS.S30.T15STT.2020015.v1.4',\n",
       " 'HLS.S30.T15STT.2020017.v1.4',\n",
       " 'HLS.S30.T15STT.2020020.v1.4',\n",
       " 'HLS.S30.T15STT.2020022.v1.4',\n",
       " 'HLS.S30.T15STT.2020025.v1.4',\n",
       " 'HLS.S30.T15STT.2020027.v1.4',\n",
       " 'HLS.S30.T15STT.2020030.v1.4',\n",
       " 'HLS.S30.T15STT.2020032.v1.4',\n",
       " 'HLS.S30.T15STT.2020035.v1.4',\n",
       " 'HLS.S30.T15STT.2020040.v1.4',\n",
       " 'HLS.S30.T15STT.2020042.v1.4',\n",
       " 'HLS.S30.T15STT.2020045.v1.4',\n",
       " 'HLS.S30.T15STT.2020047.v1.4',\n",
       " 'HLS.S30.T15STT.2020050.v1.4',\n",
       " 'HLS.S30.T15STT.2020052.v1.4']"
      ]
     },
     "execution_count": 6,
     "metadata": {},
     "output_type": "execute_result"
    }
   ],
   "source": [
    "image_index.image_id.tolist()"
   ]
  },
  {
   "cell_type": "markdown",
   "id": "a47e0aad-c5d4-4c91-865b-de028ecd1d20",
   "metadata": {},
   "source": [
    "Select 3 best images (need to loop this over tiles)"
   ]
  },
  {
   "cell_type": "code",
   "execution_count": 7,
   "id": "624a7b2e-fcc0-4bab-aed4-876542110373",
   "metadata": {},
   "outputs": [],
   "source": [
    "cloud_thres = 80\n",
    "cand_images = image_index[(image_index.spatial_coverage == 100) & (image_index.cloud_coverage <= cloud_thres)]\n",
    "cand_image_count = len(cand_images)\n",
    "first_image = cand_images.head(1)\n",
    "last_image = cand_images.tail(1)\n",
    "middle_image = cand_images.head(cand_image_count // 2).tail(1)\n",
    "\n",
    "selected_images = pd.concat([first_image, middle_image, last_image], ignore_index = True)"
   ]
  },
  {
   "cell_type": "code",
   "execution_count": 8,
   "id": "0bda4bc0-a26a-47e0-ba9a-3b9497644db8",
   "metadata": {},
   "outputs": [
    {
     "data": {
      "text/html": [
       "<div>\n",
       "<style scoped>\n",
       "    .dataframe tbody tr th:only-of-type {\n",
       "        vertical-align: middle;\n",
       "    }\n",
       "\n",
       "    .dataframe tbody tr th {\n",
       "        vertical-align: top;\n",
       "    }\n",
       "\n",
       "    .dataframe thead th {\n",
       "        text-align: right;\n",
       "    }\n",
       "</style>\n",
       "<table border=\"1\" class=\"dataframe\">\n",
       "  <thead>\n",
       "    <tr style=\"text-align: right;\">\n",
       "      <th></th>\n",
       "      <th>image_id</th>\n",
       "      <th>tile</th>\n",
       "      <th>date</th>\n",
       "      <th>month</th>\n",
       "      <th>cloud_coverage</th>\n",
       "      <th>spatial_coverage</th>\n",
       "    </tr>\n",
       "  </thead>\n",
       "  <tbody>\n",
       "    <tr>\n",
       "      <th>0</th>\n",
       "      <td>HLS.S30.T15STT.2020007.v1.4</td>\n",
       "      <td>T15STT</td>\n",
       "      <td>2020-01-07</td>\n",
       "      <td>1</td>\n",
       "      <td>2</td>\n",
       "      <td>100</td>\n",
       "    </tr>\n",
       "    <tr>\n",
       "      <th>1</th>\n",
       "      <td>HLS.S30.T15STT.2020032.v1.4</td>\n",
       "      <td>T15STT</td>\n",
       "      <td>2020-02-01</td>\n",
       "      <td>2</td>\n",
       "      <td>3</td>\n",
       "      <td>100</td>\n",
       "    </tr>\n",
       "    <tr>\n",
       "      <th>2</th>\n",
       "      <td>HLS.S30.T15STT.2020052.v1.4</td>\n",
       "      <td>T15STT</td>\n",
       "      <td>2020-02-21</td>\n",
       "      <td>2</td>\n",
       "      <td>70</td>\n",
       "      <td>100</td>\n",
       "    </tr>\n",
       "  </tbody>\n",
       "</table>\n",
       "</div>"
      ],
      "text/plain": [
       "                      image_id    tile        date month cloud_coverage  \\\n",
       "0  HLS.S30.T15STT.2020007.v1.4  T15STT  2020-01-07     1              2   \n",
       "1  HLS.S30.T15STT.2020032.v1.4  T15STT  2020-02-01     2              3   \n",
       "2  HLS.S30.T15STT.2020052.v1.4  T15STT  2020-02-21     2             70   \n",
       "\n",
       "  spatial_coverage  \n",
       "0              100  \n",
       "1              100  \n",
       "2              100  "
      ]
     },
     "execution_count": 8,
     "metadata": {},
     "output_type": "execute_result"
    }
   ],
   "source": [
    "selected_images"
   ]
  },
  {
   "cell_type": "markdown",
   "id": "00d66cb1-f0b3-4cfb-bb73-1aa2f46ea386",
   "metadata": {},
   "source": [
    "convert selected hdf to cog"
   ]
  },
  {
   "cell_type": "code",
   "execution_count": 28,
   "id": "381de00f-9871-4fb9-a61b-712ea5a81c85",
   "metadata": {},
   "outputs": [],
   "source": [
    "def convert_hdf_to_cog(scene_id, product = \"S30\"):\n",
    "    \n",
    "    \"\"\"\n",
    "    This function receives the scene_id of an HLS scene (in a format similar to \"HLS.S30.T14RNS.2020005.v1.4\"\n",
    "    and converts the scene from HDF format to COG. \n",
    "    \n",
    "    Assumptions:\n",
    "    - The corresponding HDF file for the scene is located at `/data/hdf/scene_id.hdf`\n",
    "    - The output will be written to `/data/tif/scene_id/*.tif` and contains all the bands. \n",
    "    \n",
    "    Inputs:\n",
    "    - scene_id: The scene ID of the HLS scene\n",
    "    - product: the HLS product ID. Default is S30, but it can be S30, L30, S30_ANGLES, L30_ANGLES\n",
    "    \n",
    "    \"\"\"\n",
    "    \n",
    "    import os\n",
    "    cmd = f\"python3 /hls-hdf_to_cog/hls_hdf_to_cog/hls_hdf_to_cog.py --product {product} /data/hdf/{scene_id}.hdf --output-dir /data/tif/{scene_id}/\"\n",
    "    os.system(cmd)"
   ]
  },
  {
   "cell_type": "code",
   "execution_count": 31,
   "id": "ba39a1e0-1c9e-4c73-8327-623df730f078",
   "metadata": {},
   "outputs": [
    {
     "name": "stdout",
     "output_type": "stream",
     "text": [
      "HLS.S30.T15STT.2020007.v1.4\n",
      "HLS.S30.T15STT.2020032.v1.4\n",
      "HLS.S30.T15STT.2020052.v1.4\n"
     ]
    }
   ],
   "source": [
    "for k in range(len(selected_images)):\n",
    "    print(selected_images.at[k, 'image_id'])\n",
    "    convert_hdf_to_cog(selected_images.at[k, 'image_id'])"
   ]
  },
  {
   "cell_type": "code",
   "execution_count": 30,
   "id": "84d40105-d03c-42b0-8913-cdd0a0c7e9ec",
   "metadata": {},
   "outputs": [],
   "source": [
    "convert_hdf_to_cog('HLS.S30.T15STT.2020032.v1.4')"
   ]
  },
  {
   "cell_type": "markdown",
   "id": "a3e51d72-a722-41ba-8fb9-facb4ae50f7a",
   "metadata": {},
   "source": [
    "reproject selected cog to cdl crs"
   ]
  },
  {
   "cell_type": "code",
   "execution_count": 11,
   "id": "2bb1f9b1-649d-4e25-84d4-8d76b1e2f4f9",
   "metadata": {},
   "outputs": [],
   "source": [
    "def reproject_hls_to_cdl(scene_folder,\n",
    "                         bands = [\"B01\", \"B02\", \"B03\", \"B04\", \"B05\", \"B06\", \"B07\", \"B08\", \"B8A\", \"B09\", \"B10\", \"B11\", \"B12\"],\n",
    "                         cdl_file = \"/data/2022_30m_cdls_clipped.tif\"):\n",
    "    \n",
    "    \"\"\"\n",
    "    This function receives the path to a folder that contains all GeoTIFF files (for various bands)\n",
    "    of a HLS scene, and reprojects those to the target CDL CRS and grid. \n",
    "    \n",
    "    Assumptions:\n",
    "    - scene_folder has a file structure like: \".../<scene_id>/<scene_id>.<band_id>.tiff\n",
    "    - scene_folder should not have a \"/\" at the end\n",
    "    \n",
    "    Inputs:\n",
    "    - scene_folder: is the path to the folder that contains HLS GeoTIFF files for all bands of HLS\n",
    "    - bands: list of bands of HLS that should be reprojected (default is all bands)\n",
    "    - cdl_file: contains the path to the clipped CDL GeoTIFF file\n",
    "    \n",
    "    \"\"\"\n",
    "    \n",
    "    for band in bands:\n",
    "        xds = xarray.open_rasterio(f\"{scene_folder}/{scene_folder.split('/')[-1]}.{band}.tif\")\n",
    "        cdl = xarray.open_rasterio(cdl_file)\n",
    "        xds_new = xds.rio.reproject_match(cdl, resampling = Resampling.bilinear)\n",
    "        xds_new.rio.to_raster(raster_path = f\"{scene_folder}/{scene_folder.split('/')[-1]}.{band}.5070.tif\")"
   ]
  },
  {
   "cell_type": "code",
   "execution_count": 13,
   "id": "322fd952-21e5-4e57-ad6a-21a421bfe270",
   "metadata": {},
   "outputs": [
    {
     "name": "stdout",
     "output_type": "stream",
     "text": [
      "HLS.S30.T15STT.2020032.v1.4\n",
      "HLS.S30.T15STT.2020052.v1.4\n"
     ]
    }
   ],
   "source": [
    "for k in range(1,3):\n",
    "    image_id = selected_images.at[k, 'image_id']\n",
    "    print(image_id)\n",
    "    reproject_hls_to_cdl(\"/data/tif/\" + image_id,\n",
    "                         bands = [\"B01\", \"B02\", \"B03\", \"B04\", \"B05\", \"B06\", \"B07\", \"B08\", \"B8A\", \"B09\", \"B10\", \"B11\", \"B12\"])"
   ]
  },
  {
   "cell_type": "markdown",
   "id": "b49307af-b57a-465f-95b7-0a5ef4e7ee91",
   "metadata": {},
   "source": [
    "chipping"
   ]
  },
  {
   "cell_type": "code",
   "execution_count": 45,
   "id": "1222194e-90cc-45bd-94ec-fe65537ca1c6",
   "metadata": {},
   "outputs": [
    {
     "name": "stdout",
     "output_type": "stream",
     "text": [
      "['/data/chip_geojson/test_chip.geojson']\n"
     ]
    }
   ],
   "source": [
    "# this cell is a sample clipping of an HLS scene using a sample file `chip.geojson`\n",
    "\n",
    "chips_list = sorted(glob(chip_geojson_dir + '*.geojson'))\n",
    "print(chips_list)\n"
   ]
  },
  {
   "cell_type": "code",
   "execution_count": 52,
   "id": "a2e6df41-29d7-4a0b-917b-0628c25da424",
   "metadata": {},
   "outputs": [
    {
     "name": "stdout",
     "output_type": "stream",
     "text": [
      "['/data/tif/HLS.S30.T15STT.2020007.v1.4', '/data/tif/HLS.S30.T15STT.2020032.v1.4', '/data/tif/HLS.S30.T15STT.2020052.v1.4']\n"
     ]
    }
   ],
   "source": [
    "\n",
    "\n",
    "for k in range(len(chips_list)):\n",
    "    chip = chips_list[k]\n",
    "    ## get chip id\n",
    "    chip_id = k\n",
    "    \n",
    "    ## get chip tile\n",
    "    chip_tile = '15STT'\n",
    "    \n",
    "    ## get reprojected image paths\n",
    "    selected_image_folders = sorted(glob(f'/data/tif/*{chip_tile}*'))\n",
    "    print(selected_image_folders)\n",
    "    \n",
    "    assert len(selected_image_folders) == 3\n",
    "    \n",
    "    with fiona.open(chip, \"r\") as shapefile:\n",
    "        shapes = [feature[\"geometry\"] for feature in shapefile]\n",
    "    \n",
    "    bands = [\"B01\", \"B02\", \"B03\", \"B04\", \"B05\", \"B06\", \"B07\", \"B08\", \"B8A\", \"B09\", \"B10\", \"B11\", \"B12\"]\n",
    "    first_date_images = sorted(glob(selected_image_folders[1] + '/*.5070.tif'))\n",
    "    second_date_images = sorted(glob(selected_image_folders[1] + '/*.5070.tif'))\n",
    "    third_date_images = sorted(glob(selected_image_folders[2] + '/*.5070.tif'))\n",
    "    all_date_images = first_date_images + second_date_images + third_date_images\n",
    "    \n",
    "    assert len(all_date_images) == 3 * len(bands)\n",
    "\n",
    "    ## do we want to scale/clip reflectances?\n",
    "    bands = []\n",
    "    \n",
    "    ## band order?   \n",
    "    out_meta.update({\"driver\": \"GTiff\",\n",
    "                     \"height\": out_image.shape[1],\n",
    "                     \"width\": out_image.shape[2],\n",
    "                     \"transform\": out_transform})\n",
    "\n",
    "\n",
    "    with rasterio.open(chip_output_dir + \"chip_hls_id_\" + str(chip_id) + \".tif\", \"w\", **out_meta) as dest:\n",
    "        dest.write(out_image)\n",
    "\n",
    " \n",
    "\n",
    "\n"
   ]
  },
  {
   "cell_type": "code",
   "execution_count": null,
   "id": "96d314da-ce69-49b9-bb62-4ca1c3600963",
   "metadata": {},
   "outputs": [],
   "source": []
  }
 ],
 "metadata": {
  "kernelspec": {
   "display_name": "Python 3",
   "language": "python",
   "name": "python3"
  },
  "language_info": {
   "codemirror_mode": {
    "name": "ipython",
    "version": 3
   },
   "file_extension": ".py",
   "mimetype": "text/x-python",
   "name": "python",
   "nbconvert_exporter": "python",
   "pygments_lexer": "ipython3",
   "version": "3.6.9"
  }
 },
 "nbformat": 4,
 "nbformat_minor": 5
}
