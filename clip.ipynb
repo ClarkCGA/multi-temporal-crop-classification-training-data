{
 "cells": [
  {
   "cell_type": "code",
   "execution_count": null,
   "id": "3a1410cb-1596-4f13-92be-814a3ab1ba5e",
   "metadata": {},
   "outputs": [],
   "source": [
    "# this cell is a sample clipping of an HLS scene using a sample file `chip.geojson`\n",
    "\n",
    "import fiona\n",
    "import rasterio\n",
    "import rasterio.mask\n",
    "\n",
    "with fiona.open(\"chip.geojson\", \"r\") as shapefile:\n",
    "    shapes = [feature[\"geometry\"] for feature in shapefile]\n",
    "    \n",
    "    \n",
    "with rasterio.open(\"HLS.S30.T14RNS.2020110.v1.4.5070/HLS.S30.T14RNS.2020110.v1.4__Red__5070.tif\") as src:\n",
    "    out_image, out_transform = rasterio.mask.mask(src, shapes, crop=True)\n",
    "    out_meta = src.meta\n",
    "    \n",
    "out_meta.update({\"driver\": \"GTiff\",\n",
    "                 \"height\": out_image.shape[1],\n",
    "                 \"width\": out_image.shape[2],\n",
    "                 \"transform\": out_transform})\n",
    "\n",
    "\n",
    "with rasterio.open(\"out.tif\", \"w\", **out_meta) as dest:\n",
    "    dest.write(out_image)\n",
    "    "
   ]
  },
  {
   "cell_type": "code",
   "execution_count": null,
   "id": "91d647d7-fa26-4ae6-920f-c4119252a97e",
   "metadata": {},
   "outputs": [],
   "source": []
  },
  {
   "cell_type": "code",
   "execution_count": 8,
   "id": "3a1c7e05-c92f-4fd9-88e5-e0433e3ae8b0",
   "metadata": {},
   "outputs": [],
   "source": [
    "# this cell is clipping CDL CONUS layer to a smaller area captured in `cdl_aoi.geojson`\n",
    "\n",
    "import fiona\n",
    "import rasterio\n",
    "import rasterio.mask\n",
    "\n",
    "with fiona.open(\"data/cdl_aoi.geojson\", \"r\") as shapefile:\n",
    "    shapes = [feature[\"geometry\"] for feature in shapefile]\n",
    "    \n",
    "with rasterio.open(\"/data/2021_30m_cdls/2021_30m_cdls.tif\") as src:\n",
    "    out_image, out_transform = rasterio.mask.mask(src, shapes, crop=True)\n",
    "    out_meta = src.meta\n",
    "    colormap = src.colormap(1)\n",
    "    \n",
    "out_meta.update({\"driver\": \"GTiff\",\n",
    "                 \"height\": out_image.shape[1],\n",
    "                 \"width\": out_image.shape[2],\n",
    "                 \"transform\": out_transform})\n",
    "\n",
    "with rasterio.open(\"/data/2021_30m_cdls_clipped.tif\", \"w\", **out_meta) as dest:\n",
    "    dest.write(out_image)\n",
    "    dest.write_colormap(1, colormap)"
   ]
  },
  {
   "cell_type": "code",
   "execution_count": 6,
   "id": "b20ab761-ca79-4b6e-a0da-d1c4827341f0",
   "metadata": {},
   "outputs": [
    {
     "data": {
      "text/plain": [
       "['2022_30m_cdls.aux',\n",
       " '2022_30m_cdls.tfw',\n",
       " '2022_30m_cdls.tif',\n",
       " '2022_30m_cdls.tif.ovr',\n",
       " 'metadata_Cropland-Data-Layer-2022.htm']"
      ]
     },
     "execution_count": 6,
     "metadata": {},
     "output_type": "execute_result"
    }
   ],
   "source": [
    "import os\n",
    "os.listdir(\"/data/2022_30m_cdls\")"
   ]
  },
  {
   "cell_type": "code",
   "execution_count": null,
   "id": "5f7907b3-0620-413d-80f2-af0406a4542c",
   "metadata": {},
   "outputs": [],
   "source": []
  }
 ],
 "metadata": {
  "kernelspec": {
   "display_name": "Python 3",
   "language": "python",
   "name": "python3"
  },
  "language_info": {
   "codemirror_mode": {
    "name": "ipython",
    "version": 3
   },
   "file_extension": ".py",
   "mimetype": "text/x-python",
   "name": "python",
   "nbconvert_exporter": "python",
   "pygments_lexer": "ipython3",
   "version": "3.6.9"
  }
 },
 "nbformat": 4,
 "nbformat_minor": 5
}
