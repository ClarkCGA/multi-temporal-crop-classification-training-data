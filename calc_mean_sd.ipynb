{
 "cells": [
  {
   "cell_type": "code",
   "execution_count": 1,
   "id": "679dcc20-c510-4ccc-a1fa-54e901e24659",
   "metadata": {},
   "outputs": [],
   "source": [
    "import rasterio\n",
    "from glob import glob\n",
    "import numpy as np\n",
    "import pandas as pd\n",
    "import pickle\n",
    "import os\n"
   ]
  },
  {
   "cell_type": "code",
   "execution_count": 2,
   "id": "ff9d1bf5-7356-4d55-a883-09f8ec76eb29",
   "metadata": {},
   "outputs": [],
   "source": [
    "##### START OPTIONS #####\n",
    "root_path = \"/data/\"\n",
    "stats_folder = root_path + \"band_stats/\"\n",
    "chip_dir_filt = root_path + 'chips_filtered/'\n",
    "chip_dir_binary_filt = root_path + 'chips_binary_filtered/'\n",
    "chip_dir_multi_filt = root_path + 'chips_multi_filtered/'\n",
    "\n",
    "#####  END OPTIONS  #####"
   ]
  },
  {
   "cell_type": "code",
   "execution_count": 3,
   "id": "1467b138-cb1c-4ee8-8e74-3d6fe7679519",
   "metadata": {},
   "outputs": [
    {
     "name": "stdout",
     "output_type": "stream",
     "text": [
      "pass\n"
     ]
    }
   ],
   "source": [
    "dirs_to_make = [stats_folder]\n",
    "for folder in dirs_to_make:\n",
    "    try:\n",
    "        os.makedirs(folder)\n",
    "    except FileExistsError:\n",
    "        # directory already exists\n",
    "        print('pass')\n",
    "        pass"
   ]
  },
  {
   "cell_type": "markdown",
   "id": "5a2f493d-3718-42e9-a396-7caf58cb206d",
   "metadata": {},
   "source": [
    "read in values for all HLS bands, one band at a time. save values on a per band basis"
   ]
  },
  {
   "cell_type": "code",
   "execution_count": 6,
   "id": "30cd94de-5d3f-4fd5-a7ce-824f3a71bbb5",
   "metadata": {},
   "outputs": [
    {
     "name": "stdout",
     "output_type": "stream",
     "text": [
      "4239\n",
      "1\n",
      "447.6676168488007\n",
      "171.40573643186065\n",
      "2\n",
      "706.7407293818094\n",
      "230.25873139935956\n",
      "3\n",
      "879.0833726852604\n",
      "350.9951097428933\n",
      "4\n",
      "2184.2076620844286\n",
      "635.5527779445017\n",
      "5\n",
      "2606.9293695580564\n",
      "795.3758705776565\n",
      "6\n",
      "1770.841471899546\n",
      "643.8712791473844\n",
      "7\n",
      "349.5615936362602\n",
      "159.36729877065247\n",
      "8\n",
      "641.0655599061768\n",
      "196.9676638857457\n",
      "9\n",
      "615.8356092757786\n",
      "321.9486206870691\n",
      "10\n",
      "2742.278495651899\n",
      "653.353139790775\n",
      "11\n",
      "2196.7776814478334\n",
      "681.781172524255\n",
      "12\n",
      "1272.224865439917\n",
      "586.9196411782743\n",
      "13\n",
      "336.7200042169093\n",
      "161.5689569541235\n",
      "14\n",
      "612.4113323178374\n",
      "207.076470789683\n",
      "15\n",
      "611.6312338530157\n",
      "352.79593826985223\n",
      "16\n",
      "2795.0618147640007\n",
      "595.1689886161289\n",
      "17\n",
      "2229.998832940322\n",
      "758.8212282455588\n",
      "18\n",
      "1253.424746200287\n",
      "662.8159664512201\n"
     ]
    }
   ],
   "source": [
    "chips = glob(chip_dir_filt + \"*_merged.tif\")\n",
    "print(len(chips))\n",
    "means = []\n",
    "stds = []\n",
    "\n",
    "for band in range(1, 19):\n",
    "    print(band)\n",
    "    vals_all = np.ndarray([0])\n",
    "    for k in range(len(chips)):\n",
    "    #    print(k)\n",
    "        file = chips[k]\n",
    "        with rasterio.open(file) as src:\n",
    "            vals = src.read(band).flatten()\n",
    "            vals_all = np.concatenate([vals_all, vals])\n",
    "    mean = vals_all.mean()\n",
    "    std = vals_all.std()\n",
    "    print(mean)\n",
    "    print(std)\n",
    "    means.append(mean)\n",
    "    stds.append(std)\n",
    "    \n",
    "    with open(stats_folder + 'band_values_' + str(band) + '.list', 'wb') as file:\n",
    "        pickle.dump(vals_all, file)\n",
    "        \n",
    "\n",
    "\n",
    "\n",
    "        \n",
    "    #out_image, out_transform = rasterio.mask.mask(src, shapes, crop=True)\n"
   ]
  },
  {
   "cell_type": "code",
   "execution_count": 7,
   "id": "cf110b5b-09e2-4c7c-91d4-5893fff50027",
   "metadata": {},
   "outputs": [
    {
     "name": "stdout",
     "output_type": "stream",
     "text": [
      "[447.6676168488007, 706.7407293818094, 879.0833726852604, 2184.2076620844286, 2606.9293695580564, 1770.841471899546, 349.5615936362602, 641.0655599061768, 615.8356092757786, 2742.278495651899, 2196.7776814478334, 1272.224865439917, 336.7200042169093, 612.4113323178374, 611.6312338530157, 2795.0618147640007, 2229.998832940322, 1253.424746200287]\n",
      "[171.40573643186065, 230.25873139935956, 350.9951097428933, 635.5527779445017, 795.3758705776565, 643.8712791473844, 159.36729877065247, 196.9676638857457, 321.9486206870691, 653.353139790775, 681.781172524255, 586.9196411782743, 161.5689569541235, 207.076470789683, 352.79593826985223, 595.1689886161289, 758.8212282455588, 662.8159664512201]\n"
     ]
    }
   ],
   "source": [
    "print(means)\n",
    "print(stds)"
   ]
  },
  {
   "cell_type": "markdown",
   "id": "bb6933b1-466b-43a6-aff4-04e599adb3fe",
   "metadata": {},
   "source": [
    "save band means and sds to csv"
   ]
  },
  {
   "cell_type": "code",
   "execution_count": 8,
   "id": "8cd931bd-7fc2-4f45-8d51-e48daacc0ae1",
   "metadata": {},
   "outputs": [],
   "source": [
    "band_names = list(range(1, 19))\n",
    "summary_df = pd.DataFrame({\"band\": band_names  ,  \"mean\": means, \"sd\": stds})\n",
    "summary_df\n",
    "summary_df.to_csv(stats_folder + \"means_sds.csv\")"
   ]
  },
  {
   "cell_type": "markdown",
   "id": "2889fcc7-6480-4cc9-9b2e-88cec7074a02",
   "metadata": {},
   "source": [
    "consolidate means, sds for dates"
   ]
  },
  {
   "cell_type": "code",
   "execution_count": 9,
   "id": "48ca71a8-8391-4b57-a8c8-a1eeb9faacde",
   "metadata": {},
   "outputs": [
    {
     "name": "stdout",
     "output_type": "stream",
     "text": [
      "[1, 7, 13]\n",
      "1\n",
      "447.6676168488007\n",
      "171.40573643186065\n",
      "7\n",
      "349.5615936362602\n",
      "159.36729877065247\n",
      "13\n",
      "336.7200042169093\n",
      "161.5689569541235\n",
      "[2, 8, 14]\n",
      "2\n",
      "706.7407293818094\n",
      "230.25873139935956\n",
      "8\n",
      "641.0655599061768\n",
      "196.9676638857457\n",
      "14\n",
      "612.4113323178374\n",
      "207.076470789683\n",
      "[3, 9, 15]\n",
      "3\n",
      "879.0833726852604\n",
      "350.9951097428933\n",
      "9\n",
      "615.8356092757786\n",
      "321.9486206870691\n",
      "15\n",
      "611.6312338530157\n",
      "352.79593826985223\n",
      "[4, 10, 16]\n",
      "4\n",
      "2184.2076620844286\n",
      "635.5527779445017\n",
      "10\n",
      "2742.278495651899\n",
      "653.353139790775\n",
      "16\n",
      "2795.0618147640007\n",
      "595.1689886161289\n",
      "[5, 11, 17]\n",
      "5\n",
      "2606.9293695580564\n",
      "795.3758705776565\n",
      "11\n",
      "2196.7776814478334\n",
      "681.781172524255\n",
      "17\n",
      "2229.998832940322\n",
      "758.8212282455588\n",
      "[6, 12, 18]\n",
      "6\n",
      "1770.841471899546\n",
      "643.8712791473844\n",
      "12\n",
      "1272.224865439917\n",
      "586.9196411782743\n",
      "18\n",
      "1253.424746200287\n",
      "662.8159664512201\n"
     ]
    }
   ],
   "source": [
    "means = []\n",
    "stds = []\n",
    "\n",
    "for item in [[1,7,13], [2,8,14], [3,9,15], [4,10,16], [5, 11, 17], [6, 12, 18]]:\n",
    "    print(item)\n",
    "    band_vals = []\n",
    "    for band in item:\n",
    "        print(band)\n",
    "        with open(stats_folder + 'band_values_' + str(band) + '.list', 'rb') as f:\n",
    "            x = pickle.load(f)\n",
    "            print(x.mean())\n",
    "            print(x.std())\n",
    "            band_vals.append(x)\n",
    "            del x\n",
    "\n",
    "    band_vals = np.concatenate((band_vals[0], band_vals[1], band_vals[2]))\n",
    "    mean = band_vals.mean()\n",
    "    std = band_vals.std()\n",
    "    means.append(mean)\n",
    "    stds.append(std)\n",
    "    del band_vals\n",
    "        \n",
    "            "
   ]
  },
  {
   "cell_type": "code",
   "execution_count": 10,
   "id": "509d005b-7109-48e0-a7f5-70e8d41c4c1e",
   "metadata": {},
   "outputs": [
    {
     "name": "stdout",
     "output_type": "stream",
     "text": [
      "[377.9830715673234, 653.4058738686078, 702.1834052713516, 2573.849324166776, 2344.5686279820707, 1432.16369451325]\n",
      "[171.51165872566156, 215.5407551216428, 364.3545395986149, 686.5730746423333, 769.6448444305327, 675.9192684236534]\n"
     ]
    }
   ],
   "source": [
    "print(means)\n",
    "print(stds)"
   ]
  },
  {
   "cell_type": "code",
   "execution_count": 11,
   "id": "dfe6d8c6-2bf8-4c52-a723-e448f2c3fa67",
   "metadata": {},
   "outputs": [],
   "source": [
    "band_names = ['B02', 'B03', 'B04', 'B8A', 'B11', 'B12']\n",
    "summary_df = pd.DataFrame({\"band\": band_names  ,  \"mean\": means, \"sd\": stds})\n",
    "summary_df\n",
    "summary_df.to_csv(stats_folder + \"means_sds_consolidated_dates.csv\")"
   ]
  },
  {
   "cell_type": "markdown",
   "id": "30c2352b-e674-4fa0-837c-7a8ee44260d2",
   "metadata": {},
   "source": [
    "calculate counts for all CDL classes"
   ]
  },
  {
   "cell_type": "code",
   "execution_count": 12,
   "id": "868e15a1-7ea0-4f58-b634-b32b5d7dc312",
   "metadata": {},
   "outputs": [
    {
     "name": "stdout",
     "output_type": "stream",
     "text": [
      "4239\n",
      "1\n",
      "140.65953471052478\n",
      "48.327096840758394\n"
     ]
    }
   ],
   "source": [
    "chips = glob(chip_dir_filt +  \"*.mask.tif\")\n",
    "print(len(chips))\n",
    "means = []\n",
    "stds = []\n",
    "\n",
    "for band in range(1, 2):\n",
    "    print(band)\n",
    "    vals_all = np.ndarray([0])\n",
    "    for k in range(len(chips)):\n",
    "     #   print(k)\n",
    "        file = chips[k]\n",
    "        with rasterio.open(file) as src:\n",
    "            vals = src.read(band).flatten()\n",
    "            if(len(vals) != 50176):\n",
    "                print(k)\n",
    "                print(file)\n",
    "                print(len(vals))\n",
    "            vals_all = np.concatenate([vals_all, vals])\n",
    "    mean = vals_all.mean()\n",
    "    std = vals_all.std()\n",
    "    print(mean)\n",
    "    print(std)\n",
    "    means.append(mean)\n",
    "    stds.append(std)\n",
    "    \n",
    "    with open(stats_folder + 'CDL_values.list', 'wb') as file:\n",
    "        pickle.dump(vals_all, file)\n",
    "        \n"
   ]
  },
  {
   "cell_type": "markdown",
   "id": "b89b6244-81a3-4482-804e-251c3d18447f",
   "metadata": {},
   "source": [
    "export CDL counts "
   ]
  },
  {
   "cell_type": "code",
   "execution_count": 15,
   "id": "32d91bbb-8e59-4cc0-a12a-d5f758e3e24e",
   "metadata": {},
   "outputs": [],
   "source": [
    "len(vals_all)\n",
    "unique, counts = np.unique(vals_all, return_counts=True)\n",
    "total_count = counts.sum()\n",
    "pcts = (100.0*counts)/total_count\n",
    "freq_table =  pd.DataFrame({\"CDL_val\": unique  ,  \"count\": counts, \"pct\": pcts})"
   ]
  },
  {
   "cell_type": "code",
   "execution_count": 16,
   "id": "e1925101-eff6-4f06-b266-49f9792021ea",
   "metadata": {},
   "outputs": [],
   "source": [
    "freq_table.to_csv(stats_folder + \"cdl_freq.csv\")"
   ]
  },
  {
   "cell_type": "code",
   "execution_count": 17,
   "id": "cf9a5874-8709-4204-bde2-e32fa163bf66",
   "metadata": {},
   "outputs": [
    {
     "data": {
      "text/plain": [
       "212696064"
      ]
     },
     "execution_count": 17,
     "metadata": {},
     "output_type": "execute_result"
    }
   ],
   "source": [
    "counts.sum()"
   ]
  },
  {
   "cell_type": "code",
   "execution_count": null,
   "id": "bbd0dbcf-595d-40c0-b6d5-9db90037c5e6",
   "metadata": {},
   "outputs": [],
   "source": []
  }
 ],
 "metadata": {
  "kernelspec": {
   "display_name": "Python 3",
   "language": "python",
   "name": "python3"
  },
  "language_info": {
   "codemirror_mode": {
    "name": "ipython",
    "version": 3
   },
   "file_extension": ".py",
   "mimetype": "text/x-python",
   "name": "python",
   "nbconvert_exporter": "python",
   "pygments_lexer": "ipython3",
   "version": "3.6.9"
  }
 },
 "nbformat": 4,
 "nbformat_minor": 5
}
