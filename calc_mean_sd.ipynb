{
 "cells": [
  {
   "cell_type": "code",
   "execution_count": 18,
   "id": "679dcc20-c510-4ccc-a1fa-54e901e24659",
   "metadata": {},
   "outputs": [],
   "source": [
    "import rasterio\n",
    "from glob import glob\n",
    "import numpy as np\n",
    "import pandas as pd\n",
    "import pickle\n",
    "import os\n"
   ]
  },
  {
   "cell_type": "code",
   "execution_count": 19,
   "id": "ff9d1bf5-7356-4d55-a883-09f8ec76eb29",
   "metadata": {},
   "outputs": [],
   "source": [
    "##### START OPTIONS #####\n",
    "root_path = \"/data/\"\n",
    "stats_folder = root_path + \"band_stats/\"\n",
    "chip_dir_filt = root_path + 'chips_filtered/'\n",
    "chip_dir_binary_filt = root_path + 'chips_binary_filtered/'\n",
    "chip_dir_multi_filt = root_path + 'chips_multi_filtered/'\n",
    "\n",
    "#####  END OPTIONS  #####"
   ]
  },
  {
   "cell_type": "code",
   "execution_count": 20,
   "id": "1467b138-cb1c-4ee8-8e74-3d6fe7679519",
   "metadata": {},
   "outputs": [
    {
     "name": "stdout",
     "output_type": "stream",
     "text": [
      "pass\n"
     ]
    }
   ],
   "source": [
    "dirs_to_make = [stats_folder]\n",
    "for folder in dirs_to_make:\n",
    "    try:\n",
    "        os.makedirs(folder)\n",
    "    except FileExistsError:\n",
    "        # directory already exists\n",
    "        print('pass')\n",
    "        pass"
   ]
  },
  {
   "cell_type": "markdown",
   "id": "5a2f493d-3718-42e9-a396-7caf58cb206d",
   "metadata": {},
   "source": [
    "read in values for all HLS bands, one band at a time. save values on a per band basis"
   ]
  },
  {
   "cell_type": "code",
   "execution_count": 21,
   "id": "30cd94de-5d3f-4fd5-a7ce-824f3a71bbb5",
   "metadata": {},
   "outputs": [
    {
     "name": "stdout",
     "output_type": "stream",
     "text": [
      "4238\n",
      "1\n",
      "447.6512258304285\n",
      "171.39312946409086\n",
      "2\n",
      "706.6825287823107\n",
      "230.2506792460155\n",
      "3\n",
      "879.0960315583436\n",
      "350.9528178396797\n",
      "4\n",
      "2114.2992681052924\n",
      "637.1488432543365\n",
      "5\n",
      "349.5627358616029\n",
      "159.35557912214958\n",
      "6\n",
      "641.0681161537439\n",
      "196.95454815196112\n",
      "7\n",
      "615.8145881146783\n",
      "321.91264645088404\n",
      "8\n",
      "2576.2793531140373\n",
      "627.8817516633674\n",
      "9\n",
      "336.65180812243125\n",
      "161.51306914484033\n",
      "10\n",
      "612.3442885761327\n",
      "207.00462718449378\n",
      "11\n",
      "611.4553372788473\n",
      "352.6264694215877\n",
      "12\n",
      "2588.473145998478\n",
      "569.9283100640438\n"
     ]
    }
   ],
   "source": [
    "chips = glob(chip_dir_filt + \"*_merged.tif\")\n",
    "print(len(chips))\n",
    "means = []\n",
    "stds = []\n",
    "\n",
    "for band in range(1, 13):\n",
    "    print(band)\n",
    "    vals_all = np.ndarray([0])\n",
    "    for k in range(len(chips)):\n",
    "     #   print(k)\n",
    "        file = chips[k]\n",
    "        with rasterio.open(file) as src:\n",
    "            vals = src.read(band).flatten()\n",
    "            vals_all = np.concatenate([vals_all, vals])\n",
    "    mean = vals_all.mean()\n",
    "    std = vals_all.std()\n",
    "    print(mean)\n",
    "    print(std)\n",
    "    means.append(mean)\n",
    "    stds.append(std)\n",
    "    \n",
    "    with open(stats_folder + 'band_values_' + str(band) + '.list', 'wb') as file:\n",
    "        pickle.dump(vals_all, file)\n",
    "        \n",
    "\n",
    "\n",
    "\n",
    "        \n",
    "    #out_image, out_transform = rasterio.mask.mask(src, shapes, crop=True)\n"
   ]
  },
  {
   "cell_type": "code",
   "execution_count": 22,
   "id": "cf110b5b-09e2-4c7c-91d4-5893fff50027",
   "metadata": {},
   "outputs": [
    {
     "name": "stdout",
     "output_type": "stream",
     "text": [
      "[447.6512258304285, 706.6825287823107, 879.0960315583436, 2114.2992681052924, 349.5627358616029, 641.0681161537439, 615.8145881146783, 2576.2793531140373, 336.65180812243125, 612.3442885761327, 611.4553372788473, 2588.473145998478]\n",
      "[171.39312946409086, 230.2506792460155, 350.9528178396797, 637.1488432543365, 159.35557912214958, 196.95454815196112, 321.91264645088404, 627.8817516633674, 161.51306914484033, 207.00462718449378, 352.6264694215877, 569.9283100640438]\n"
     ]
    }
   ],
   "source": [
    "print(means)\n",
    "print(stds)"
   ]
  },
  {
   "cell_type": "markdown",
   "id": "bb6933b1-466b-43a6-aff4-04e599adb3fe",
   "metadata": {},
   "source": [
    "save band means and sds to csv"
   ]
  },
  {
   "cell_type": "code",
   "execution_count": 23,
   "id": "8cd931bd-7fc2-4f45-8d51-e48daacc0ae1",
   "metadata": {},
   "outputs": [],
   "source": [
    "band_names = list(range(1, 13))\n",
    "summary_df = pd.DataFrame({\"band\": band_names  ,  \"mean\": means, \"sd\": stds})\n",
    "summary_df\n",
    "summary_df.to_csv(stats_folder + \"means_sds.csv\")"
   ]
  },
  {
   "cell_type": "markdown",
   "id": "2889fcc7-6480-4cc9-9b2e-88cec7074a02",
   "metadata": {},
   "source": [
    "consolidate means, sds for dates"
   ]
  },
  {
   "cell_type": "code",
   "execution_count": 24,
   "id": "48ca71a8-8391-4b57-a8c8-a1eeb9faacde",
   "metadata": {},
   "outputs": [
    {
     "name": "stdout",
     "output_type": "stream",
     "text": [
      "[1, 5, 9]\n",
      "1\n",
      "447.6512258304285\n",
      "171.39312946409086\n",
      "5\n",
      "349.5627358616029\n",
      "159.35557912214958\n",
      "9\n",
      "336.65180812243125\n",
      "161.51306914484033\n",
      "[2, 6, 10]\n",
      "2\n",
      "706.6825287823107\n",
      "230.2506792460155\n",
      "6\n",
      "641.0681161537439\n",
      "196.95454815196112\n",
      "10\n",
      "612.3442885761327\n",
      "207.00462718449378\n",
      "[3, 7, 11]\n",
      "3\n",
      "879.0960315583436\n",
      "350.9528178396797\n",
      "7\n",
      "615.8145881146783\n",
      "321.91264645088404\n",
      "11\n",
      "611.4553372788473\n",
      "352.6264694215877\n",
      "[4, 8, 12]\n",
      "4\n",
      "2114.2992681052924\n",
      "637.1488432543365\n",
      "8\n",
      "2576.2793531140373\n",
      "627.8817516633674\n",
      "12\n",
      "2588.473145998478\n",
      "569.9283100640438\n"
     ]
    }
   ],
   "source": [
    "means = []\n",
    "stds = []\n",
    "\n",
    "for item in [[1,5,9], [2,6,10], [3,7,11], [4,8,12]]:\n",
    "    print(item)\n",
    "    band_vals = []\n",
    "    for band in item:\n",
    "        print(band)\n",
    "        with open(stats_folder + 'band_values_' + str(band) + '.list', 'rb') as f:\n",
    "            x = pickle.load(f)\n",
    "            print(x.mean())\n",
    "            print(x.std())\n",
    "            band_vals.append(x)\n",
    "            del x\n",
    "\n",
    "    band_vals = np.concatenate((band_vals[0], band_vals[1], band_vals[2]))\n",
    "    mean = band_vals.mean()\n",
    "    std = band_vals.std()\n",
    "    means.append(mean)\n",
    "    stds.append(std)\n",
    "    del band_vals\n",
    "        \n",
    "            "
   ]
  },
  {
   "cell_type": "code",
   "execution_count": 25,
   "id": "509d005b-7109-48e0-a7f5-70e8d41c4c1e",
   "metadata": {},
   "outputs": [
    {
     "name": "stdout",
     "output_type": "stream",
     "text": [
      "[377.9552566048209, 653.3649778373957, 702.1219856506231, 2426.3505890726024]\n",
      "[171.489470178614, 215.51029055112002, 364.2939656160049, 650.9354309538619]\n"
     ]
    }
   ],
   "source": [
    "print(means)\n",
    "print(stds)"
   ]
  },
  {
   "cell_type": "code",
   "execution_count": 26,
   "id": "dfe6d8c6-2bf8-4c52-a723-e448f2c3fa67",
   "metadata": {},
   "outputs": [],
   "source": [
    "band_names = list(range(1, 5))\n",
    "summary_df = pd.DataFrame({\"band\": band_names  ,  \"mean\": means, \"sd\": stds})\n",
    "summary_df\n",
    "summary_df.to_csv(stats_folder + \"means_sds_consolidated_dates.csv\")"
   ]
  },
  {
   "cell_type": "markdown",
   "id": "30c2352b-e674-4fa0-837c-7a8ee44260d2",
   "metadata": {},
   "source": [
    "calculate counts for all CDL classes"
   ]
  },
  {
   "cell_type": "code",
   "execution_count": 27,
   "id": "868e15a1-7ea0-4f58-b634-b32b5d7dc312",
   "metadata": {},
   "outputs": [
    {
     "name": "stdout",
     "output_type": "stream",
     "text": [
      "4238\n",
      "1\n",
      "140.66307033879724\n",
      "48.328550364210074\n"
     ]
    }
   ],
   "source": [
    "chips = glob(chip_dir_filt +  \"*.mask.tif\")\n",
    "print(len(chips))\n",
    "means = []\n",
    "stds = []\n",
    "\n",
    "for band in range(1, 2):\n",
    "    print(band)\n",
    "    vals_all = np.ndarray([0])\n",
    "    for k in range(len(chips)):\n",
    "     #   print(k)\n",
    "        file = chips[k]\n",
    "        with rasterio.open(file) as src:\n",
    "            vals = src.read(band).flatten()\n",
    "            if(len(vals) != 50176):\n",
    "                print(k)\n",
    "                print(file)\n",
    "                print(len(vals))\n",
    "            vals_all = np.concatenate([vals_all, vals])\n",
    "    mean = vals_all.mean()\n",
    "    std = vals_all.std()\n",
    "    print(mean)\n",
    "    print(std)\n",
    "    means.append(mean)\n",
    "    stds.append(std)\n",
    "    \n",
    "    with open(stats_folder + 'CDL_values.list', 'wb') as file:\n",
    "        pickle.dump(vals_all, file)\n",
    "        \n"
   ]
  },
  {
   "cell_type": "markdown",
   "id": "b89b6244-81a3-4482-804e-251c3d18447f",
   "metadata": {},
   "source": [
    "export CDL counts "
   ]
  },
  {
   "cell_type": "code",
   "execution_count": 28,
   "id": "32d91bbb-8e59-4cc0-a12a-d5f758e3e24e",
   "metadata": {},
   "outputs": [],
   "source": [
    "len(vals_all)\n",
    "unique, counts = np.unique(vals_all, return_counts=True)\n",
    "total_count = counts.sum()\n",
    "pcts = (100.0*counts)/total_count\n",
    "freq_table =  pd.DataFrame({\"CDL_val\": unique  ,  \"count\": counts, \"pct\": pcts})"
   ]
  },
  {
   "cell_type": "code",
   "execution_count": 29,
   "id": "e1925101-eff6-4f06-b266-49f9792021ea",
   "metadata": {},
   "outputs": [],
   "source": [
    "freq_table.to_csv(stats_folder + \"cdl_freq.csv\")"
   ]
  },
  {
   "cell_type": "code",
   "execution_count": 30,
   "id": "cf9a5874-8709-4204-bde2-e32fa163bf66",
   "metadata": {},
   "outputs": [
    {
     "data": {
      "text/plain": [
       "212645888"
      ]
     },
     "execution_count": 30,
     "metadata": {},
     "output_type": "execute_result"
    }
   ],
   "source": [
    "counts.sum()"
   ]
  },
  {
   "cell_type": "code",
   "execution_count": null,
   "id": "bbd0dbcf-595d-40c0-b6d5-9db90037c5e6",
   "metadata": {},
   "outputs": [],
   "source": []
  }
 ],
 "metadata": {
  "kernelspec": {
   "display_name": "Python 3",
   "language": "python",
   "name": "python3"
  },
  "language_info": {
   "codemirror_mode": {
    "name": "ipython",
    "version": 3
   },
   "file_extension": ".py",
   "mimetype": "text/x-python",
   "name": "python",
   "nbconvert_exporter": "python",
   "pygments_lexer": "ipython3",
   "version": "3.6.9"
  }
 },
 "nbformat": 4,
 "nbformat_minor": 5
}
