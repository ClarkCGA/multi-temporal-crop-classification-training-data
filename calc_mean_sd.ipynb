{
 "cells": [
  {
   "cell_type": "code",
   "execution_count": null,
   "id": "679dcc20-c510-4ccc-a1fa-54e901e24659",
   "metadata": {},
   "outputs": [],
   "source": [
    "import rasterio\n",
    "from glob import glob\n",
    "import numpy as np\n",
    "import pandas as pd\n",
    "import pickle\n",
    "import os\n"
   ]
  },
  {
   "cell_type": "code",
   "execution_count": null,
   "id": "ff9d1bf5-7356-4d55-a883-09f8ec76eb29",
   "metadata": {},
   "outputs": [],
   "source": [
    "##### START OPTIONS #####\n",
    "root_path = \"/data/\"\n",
    "stats_folder = root_path + \"band_stats/\"\n",
    "chip_dir_filt = root_path + 'chips_filtered/'\n",
    "chip_dir_binary_filt = root_path + 'chips_binary_filtered/'\n",
    "chip_dir_multi_filt = root_path + 'chips_multi_filtered/'\n",
    "\n",
    "#####  END OPTIONS  #####"
   ]
  },
  {
   "cell_type": "markdown",
   "id": "5a2f493d-3718-42e9-a396-7caf58cb206d",
   "metadata": {},
   "source": [
    "read in values for all HLS bands, one band at a time. save values on a per band basis"
   ]
  },
  {
   "cell_type": "code",
   "execution_count": null,
   "id": "a1a0e17b-e22a-48d5-949e-a6262a068d0b",
   "metadata": {},
   "outputs": [],
   "source": [
    "band_ids = [[1,7,13], [2,8,14], [3,9,15], [4,10,16], [5,11,17], [6,12,18]]\n",
    "\n",
    "chips = glob(chip_dir_filt + \"*_merged.tif\")\n",
    "print(len(chips))\n",
    "means = []\n",
    "stds = []\n",
    "\n",
    "for i_band, band in enumerate(band_ids):\n",
    "    print(i_band+1, \":\", band)\n",
    "    vals_all = np.ndarray([0])\n",
    "    for k in range(len(chips)):\n",
    "        file = chips[k]\n",
    "        with rasterio.open(file) as src:\n",
    "            vals = src.read(band).flatten()\n",
    "            vals_all = np.concatenate([vals_all, vals])\n",
    "    mean = vals_all.mean()\n",
    "    std = vals_all.std()\n",
    "    print(mean)\n",
    "    print(std)\n",
    "    means.append(mean)\n",
    "    stds.append(std)\n",
    "    \n",
    "    with open(stats_folder + 'band_values_' + str(i_band+1) + '.list', 'wb') as file:\n",
    "        pickle.dump(vals_all, file)"
   ]
  },
  {
   "cell_type": "code",
   "execution_count": null,
   "id": "30cd94de-5d3f-4fd5-a7ce-824f3a71bbb5",
   "metadata": {},
   "outputs": [],
   "source": [
    "# chips = glob(chip_dir_filt + \"*_merged.tif\")\n",
    "# print(len(chips))\n",
    "# means = []\n",
    "# stds = []\n",
    "\n",
    "# for band in range(1, 19):\n",
    "#     print(band)\n",
    "#     vals_all = np.ndarray([0])\n",
    "#     for k in range(len(chips)):\n",
    "#         file = chips[k]\n",
    "#         with rasterio.open(file) as src:\n",
    "#             vals = src.read(band).flatten()\n",
    "#             vals_all = np.concatenate([vals_all, vals])\n",
    "#     mean = vals_all.mean()\n",
    "#     std = vals_all.std()\n",
    "#     print(mean)\n",
    "#     print(std)\n",
    "#     means.append(mean)\n",
    "#     stds.append(std)\n",
    "    \n",
    "#     with open(stats_folder + 'band_values_' + str(band) + '.list', 'wb') as file:\n",
    "#         pickle.dump(vals_all, file)"
   ]
  },
  {
   "cell_type": "code",
   "execution_count": null,
   "id": "8cd931bd-7fc2-4f45-8d51-e48daacc0ae1",
   "metadata": {},
   "outputs": [],
   "source": [
    "# band_names = list(range(1, 13))\n",
    "# summary_df = pd.DataFrame({\"band\": band_names  ,  \"mean\": means, \"sd\": stds})\n",
    "# summary_df\n",
    "# # summary_df.to_csv(stats_folder + \"means_sds.csv\")"
   ]
  },
  {
   "cell_type": "markdown",
   "id": "2889fcc7-6480-4cc9-9b2e-88cec7074a02",
   "metadata": {},
   "source": [
    "consolidate means, sds for dates"
   ]
  },
  {
   "cell_type": "code",
   "execution_count": null,
   "id": "48ca71a8-8391-4b57-a8c8-a1eeb9faacde",
   "metadata": {},
   "outputs": [],
   "source": [
    "# means = []\n",
    "# stds = []\n",
    "\n",
    "# for item in [[1,7,13], [2,8,14], [3,9,15], [4,10,16], [5,11,17], [6,12,18]]:\n",
    "#     print(item)\n",
    "#     band_vals = []\n",
    "#     for band in item:\n",
    "#         print(band)\n",
    "#         with open(stats_folder + 'band_values_' + str(band) + '.list', 'rb') as f:\n",
    "#             x = pickle.load(f)\n",
    "#             print(x.mean())\n",
    "#             print(x.std())\n",
    "#             band_vals.append(x)\n",
    "#             del x\n",
    "\n",
    "#     band_vals = np.concatenate((band_vals[0], band_vals[1], band_vals[2]))\n",
    "#     mean = band_vals.mean()\n",
    "#     std = band_vals.std()\n",
    "#     means.append(mean)\n",
    "#     stds.append(std)\n",
    "#     del band_vals\n",
    "        \n",
    "            "
   ]
  },
  {
   "cell_type": "code",
   "execution_count": null,
   "id": "509d005b-7109-48e0-a7f5-70e8d41c4c1e",
   "metadata": {},
   "outputs": [],
   "source": [
    "# print(means)\n",
    "# print(stds)"
   ]
  },
  {
   "cell_type": "code",
   "execution_count": null,
   "id": "dfe6d8c6-2bf8-4c52-a723-e448f2c3fa67",
   "metadata": {},
   "outputs": [],
   "source": [
    "# band_names = list(range(1, 5))\n",
    "# summary_df = pd.DataFrame({\"band\": band_names  ,  \"mean\": means, \"sd\": stds})\n",
    "# summary_df\n",
    "# summary_df.to_csv(stats_folder + \"means_sds_consolidated_dates.csv\")"
   ]
  },
  {
   "cell_type": "markdown",
   "id": "30c2352b-e674-4fa0-837c-7a8ee44260d2",
   "metadata": {},
   "source": [
    "calculate counts for all CDL classes"
   ]
  },
  {
   "cell_type": "code",
   "execution_count": null,
   "id": "868e15a1-7ea0-4f58-b634-b32b5d7dc312",
   "metadata": {},
   "outputs": [],
   "source": [
    "# chips = glob(chip_dir_filt +  \"*.mask.tif\")\n",
    "# print(len(chips))\n",
    "# means = []\n",
    "# stds = []\n",
    "\n",
    "# for band in range(1, 2):\n",
    "#     print(band)\n",
    "#     vals_all = np.ndarray([0])\n",
    "#     for k in range(len(chips)):\n",
    "#      #   print(k)\n",
    "#         file = chips[k]\n",
    "#         with rasterio.open(file) as src:\n",
    "#             vals = src.read(band).flatten()\n",
    "#             if(len(vals) != 50176):\n",
    "#                 print(k)\n",
    "#                 print(file)\n",
    "#                 print(len(vals))\n",
    "#             vals_all = np.concatenate([vals_all, vals])\n",
    "#     mean = vals_all.mean()\n",
    "#     std = vals_all.std()\n",
    "#     print(mean)\n",
    "#     print(std)\n",
    "#     means.append(mean)\n",
    "#     stds.append(std)\n",
    "    \n",
    "#     with open(stats_folder + 'CDL_values.list', 'wb') as file:\n",
    "#         pickle.dump(vals_all, file)\n",
    "        \n"
   ]
  },
  {
   "cell_type": "markdown",
   "id": "b89b6244-81a3-4482-804e-251c3d18447f",
   "metadata": {},
   "source": [
    "export CDL counts "
   ]
  },
  {
   "cell_type": "code",
   "execution_count": null,
   "id": "32d91bbb-8e59-4cc0-a12a-d5f758e3e24e",
   "metadata": {},
   "outputs": [],
   "source": [
    "# len(vals_all)\n",
    "# unique, counts = np.unique(vals_all, return_counts=True)\n",
    "# total_count = counts.sum()\n",
    "# pcts = (100.0*counts)/total_count\n",
    "# freq_table =  pd.DataFrame({\"CDL_val\": unique  ,  \"count\": counts, \"pct\": pcts})"
   ]
  },
  {
   "cell_type": "code",
   "execution_count": null,
   "id": "e1925101-eff6-4f06-b266-49f9792021ea",
   "metadata": {},
   "outputs": [],
   "source": [
    "# freq_table.to_csv(stats_folder + \"cdl_freq.csv\")"
   ]
  },
  {
   "cell_type": "code",
   "execution_count": null,
   "id": "cf9a5874-8709-4204-bde2-e32fa163bf66",
   "metadata": {},
   "outputs": [],
   "source": [
    "# counts.sum()"
   ]
  },
  {
   "cell_type": "code",
   "execution_count": null,
   "id": "bbd0dbcf-595d-40c0-b6d5-9db90037c5e6",
   "metadata": {},
   "outputs": [],
   "source": []
  }
 ],
 "metadata": {
  "kernelspec": {
   "display_name": "Python 3 (ipykernel)",
   "language": "python",
   "name": "python3"
  },
  "language_info": {
   "codemirror_mode": {
    "name": "ipython",
    "version": 3
   },
   "file_extension": ".py",
   "mimetype": "text/x-python",
   "name": "python",
   "nbconvert_exporter": "python",
   "pygments_lexer": "ipython3",
   "version": "3.10.6"
  }
 },
 "nbformat": 4,
 "nbformat_minor": 5
}
