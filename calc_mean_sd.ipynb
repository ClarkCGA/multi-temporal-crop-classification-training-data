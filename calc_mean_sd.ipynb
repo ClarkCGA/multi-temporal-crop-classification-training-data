{
 "cells": [
  {
   "cell_type": "code",
   "execution_count": 1,
   "id": "679dcc20-c510-4ccc-a1fa-54e901e24659",
   "metadata": {},
   "outputs": [],
   "source": [
    "import rasterio\n",
    "from glob import glob\n",
    "import numpy as np\n",
    "import pandas as pd\n",
    "import pickle\n",
    "import os\n",
    "import multiprocessing as mp"
   ]
  },
  {
   "cell_type": "code",
   "execution_count": 2,
   "id": "0c5c2f1e-c73c-4b3f-9018-ce2540381754",
   "metadata": {},
   "outputs": [],
   "source": [
    "def calc_mean_std(kwargs):\n",
    "    i_band = kwargs[\"i_band\"]\n",
    "    band = kwargs[\"band\"]\n",
    "    clip_val = 1.5\n",
    "    \n",
    "    chips = glob(\"/data/chips_filtered/*_merged.tif\")\n",
    "    means = []\n",
    "    stds = []\n",
    "    \n",
    "    print(\"Bands:\", band)\n",
    "    vals_all = np.ndarray([0])\n",
    "    for k in range(len(chips)):\n",
    "        file = chips[k]\n",
    "        with rasterio.open(file) as src:\n",
    "            vals = src.read(band).flatten()\n",
    "            vals_all = np.concatenate([vals_all, vals])\n",
    "    band_mean = vals_all.mean()\n",
    "    band_std = vals_all.std()\n",
    "    vals_all_clipped = np.clip(vals_all, np.nanpercentile(vals_all, clip_val), \n",
    "                               np.nanpercentile(vals_all, 100 - clip_val))\n",
    "    band_min = np.min(vals_all_clipped)\n",
    "    band_max = np.max(vals_all_clipped)\n",
    "    f= open(\"/data/band_stats/band_values_\" + str(i_band) + \".txt\",\"w+\")\n",
    "    f.write(\"Mean: %f\\r\\n\" % (band_mean))\n",
    "    f.write(\"Std: %f\\r\\n\" % (band_std))\n",
    "    f.write(\"Min: %f\\r\\n\" % (band_min))\n",
    "    f.write(\"Max: %f\\r\\n\" % (band_max))\n",
    "    f.close\n",
    "    \n",
    "    with open(\"/data/band_stats/band_values_\" + str(i_band) + '.list', 'wb') as file:\n",
    "        pickle.dump(vals_all, file)"
   ]
  },
  {
   "cell_type": "code",
   "execution_count": 3,
   "id": "9b0cf5d7-ed7d-48a2-ac56-8856cfb6ad6b",
   "metadata": {},
   "outputs": [],
   "source": [
    "i_band = list(range(1, 7))\n",
    "band_ids = [[1,7,13], [2,8,14], [3,9,15], [4,10,16], [5,11,17], [6,12,18]]\n",
    "df = pd.DataFrame({\"i_band\": i_band, \"band\": band_ids})"
   ]
  },
  {
   "cell_type": "code",
   "execution_count": 4,
   "id": "722807aa-92eb-4270-b612-83c4e3ae513e",
   "metadata": {},
   "outputs": [
    {
     "name": "stdout",
     "output_type": "stream",
     "text": [
      "Bands:Bands:Bands:Bands:Bands:Bands:      [1, 7, 13][3, 9, 15][2, 8, 14][4, 10, 16][5, 11, 17][6, 12, 18]\n",
      "\n",
      "\n",
      "\n",
      "\n",
      "\n"
     ]
    }
   ],
   "source": [
    "with mp.Pool(processes=6) as pool:\n",
    "    pool.map(calc_mean_std, df.to_dict('records'))"
   ]
  },
  {
   "cell_type": "code",
   "execution_count": null,
   "id": "b30d0b71-93b0-48dc-b868-3eae8b7ffacc",
   "metadata": {},
   "outputs": [],
   "source": []
  }
 ],
 "metadata": {
  "kernelspec": {
   "display_name": "Python 3 (ipykernel)",
   "language": "python",
   "name": "python3"
  },
  "language_info": {
   "codemirror_mode": {
    "name": "ipython",
    "version": 3
   },
   "file_extension": ".py",
   "mimetype": "text/x-python",
   "name": "python",
   "nbconvert_exporter": "python",
   "pygments_lexer": "ipython3",
   "version": "3.10.6"
  }
 },
 "nbformat": 4,
 "nbformat_minor": 5
}
