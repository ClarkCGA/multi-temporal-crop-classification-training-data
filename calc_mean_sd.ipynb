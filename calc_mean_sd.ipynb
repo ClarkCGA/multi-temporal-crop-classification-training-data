{
 "cells": [
  {
   "cell_type": "code",
   "execution_count": 1,
   "id": "679dcc20-c510-4ccc-a1fa-54e901e24659",
   "metadata": {},
   "outputs": [],
   "source": [
    "import rasterio\n",
    "from glob import glob\n",
    "import numpy as np\n",
    "import pandas as pd\n",
    "import pickle\n",
    "import os\n"
   ]
  },
  {
   "cell_type": "code",
   "execution_count": 2,
   "id": "ff9d1bf5-7356-4d55-a883-09f8ec76eb29",
   "metadata": {},
   "outputs": [],
   "source": [
    "##### START OPTIONS #####\n",
    "root_path = \"/data/\"\n",
    "stats_folder = root_path + \"band_stats/\"\n",
    "chip_dir_filt = root_path + 'chips_filtered/'\n",
    "chip_dir_binary_filt = root_path + 'chips_binary_filtered/'\n",
    "chip_dir_multi_filt = root_path + 'chips_multi_filtered/'\n",
    "\n",
    "#####  END OPTIONS  #####"
   ]
  },
  {
   "cell_type": "code",
   "execution_count": 3,
   "id": "1467b138-cb1c-4ee8-8e74-3d6fe7679519",
   "metadata": {},
   "outputs": [],
   "source": [
    "dirs_to_make = [stats_folder]\n",
    "for folder in dirs_to_make:\n",
    "    try:\n",
    "        os.makedirs(folder)\n",
    "    except FileExistsError:\n",
    "        # directory already exists\n",
    "        print('pass')\n",
    "        pass"
   ]
  },
  {
   "cell_type": "markdown",
   "id": "5a2f493d-3718-42e9-a396-7caf58cb206d",
   "metadata": {},
   "source": [
    "read in values for all HLS bands, one band at a time. save values on a per band basis"
   ]
  },
  {
   "cell_type": "code",
   "execution_count": 13,
   "id": "30cd94de-5d3f-4fd5-a7ce-824f3a71bbb5",
   "metadata": {},
   "outputs": [
    {
     "name": "stdout",
     "output_type": "stream",
     "text": [
      "82\n",
      "1\n",
      "475.98330535053196\n",
      "146.46174845556203\n",
      "2\n",
      "777.0021543678447\n",
      "175.13277578040547\n",
      "3\n",
      "995.5648259589659\n",
      "340.6730466061487\n",
      "4\n",
      "2402.4183846032697\n",
      "510.87817441986573\n",
      "5\n",
      "2834.097757600563\n",
      "606.7183205001566\n",
      "6\n",
      "1994.2226003492099\n",
      "614.3855352701568\n",
      "7\n",
      "404.06936461703583\n",
      "154.57348214419721\n",
      "8\n",
      "716.4779340137351\n",
      "179.76939525521266\n",
      "9\n",
      "838.4898632423625\n",
      "353.10781836706155\n",
      "10\n",
      "2633.105708880351\n",
      "472.1792105845257\n",
      "11\n",
      "2617.000048123289\n",
      "630.3450079285017\n",
      "12\n",
      "1667.5238499506129\n",
      "665.4820760040467\n",
      "13\n",
      "432.6193649573015\n",
      "156.86260998036263\n",
      "14\n",
      "757.6270386775137\n",
      "201.1481813904242\n",
      "15\n",
      "1043.4415907226075\n",
      "364.76270076992\n",
      "16\n",
      "2654.7527816719294\n",
      "501.581632457672\n",
      "17\n",
      "2949.277601136682\n",
      "647.7870283209181\n",
      "18\n",
      "1954.2886707083749\n",
      "703.3462607491523\n"
     ]
    }
   ],
   "source": [
    "chips = glob(chip_dir_filt + \"*_merged.tif\")\n",
    "print(len(chips))\n",
    "means = []\n",
    "stds = []\n",
    "\n",
    "for band in range(1, 19):\n",
    "    print(band)\n",
    "    vals_all = np.ndarray([0])\n",
    "    for k in range(len(chips)):\n",
    "     #   print(k)\n",
    "        file = chips[k]\n",
    "        with rasterio.open(file) as src:\n",
    "            vals = src.read(band).flatten()\n",
    "            vals_all = np.concatenate([vals_all, vals])\n",
    "    mean = vals_all.mean()\n",
    "    std = vals_all.std()\n",
    "    print(mean)\n",
    "    print(std)\n",
    "    means.append(mean)\n",
    "    stds.append(std)\n",
    "    \n",
    "    with open(stats_folder + 'band_values_' + str(band) + '.list', 'wb') as file:\n",
    "        pickle.dump(vals_all, file)\n",
    "        \n",
    "\n",
    "\n",
    "\n",
    "        \n",
    "    #out_image, out_transform = rasterio.mask.mask(src, shapes, crop=True)\n"
   ]
  },
  {
   "cell_type": "code",
   "execution_count": 14,
   "id": "cf110b5b-09e2-4c7c-91d4-5893fff50027",
   "metadata": {},
   "outputs": [
    {
     "name": "stdout",
     "output_type": "stream",
     "text": [
      "[475.98330535053196, 777.0021543678447, 995.5648259589659, 2402.4183846032697, 2834.097757600563, 1994.2226003492099, 404.06936461703583, 716.4779340137351, 838.4898632423625, 2633.105708880351, 2617.000048123289, 1667.5238499506129, 432.6193649573015, 757.6270386775137, 1043.4415907226075, 2654.7527816719294, 2949.277601136682, 1954.2886707083749]\n",
      "[146.46174845556203, 175.13277578040547, 340.6730466061487, 510.87817441986573, 606.7183205001566, 614.3855352701568, 154.57348214419721, 179.76939525521266, 353.10781836706155, 472.1792105845257, 630.3450079285017, 665.4820760040467, 156.86260998036263, 201.1481813904242, 364.76270076992, 501.581632457672, 647.7870283209181, 703.3462607491523]\n"
     ]
    }
   ],
   "source": [
    "print(means)\n",
    "print(stds)"
   ]
  },
  {
   "cell_type": "markdown",
   "id": "bb6933b1-466b-43a6-aff4-04e599adb3fe",
   "metadata": {},
   "source": [
    "save band means and sds to csv"
   ]
  },
  {
   "cell_type": "code",
   "execution_count": 15,
   "id": "8cd931bd-7fc2-4f45-8d51-e48daacc0ae1",
   "metadata": {},
   "outputs": [],
   "source": [
    "band_names = list(range(1, 19))\n",
    "summary_df = pd.DataFrame({\"band\": band_names  ,  \"mean\": means, \"sd\": stds})\n",
    "summary_df\n",
    "summary_df.to_csv(stats_folder + \"means_sds.csv\")"
   ]
  },
  {
   "cell_type": "markdown",
   "id": "2889fcc7-6480-4cc9-9b2e-88cec7074a02",
   "metadata": {},
   "source": [
    "consolidate means, sds for dates"
   ]
  },
  {
   "cell_type": "code",
   "execution_count": 16,
   "id": "48ca71a8-8391-4b57-a8c8-a1eeb9faacde",
   "metadata": {},
   "outputs": [
    {
     "name": "stdout",
     "output_type": "stream",
     "text": [
      "[1, 7, 13]\n",
      "1\n",
      "475.98330535053196\n",
      "146.46174845556203\n",
      "7\n",
      "404.06936461703583\n",
      "154.57348214419721\n",
      "13\n",
      "432.6193649573015\n",
      "156.86260998036263\n",
      "[2, 8, 14]\n",
      "2\n",
      "777.0021543678447\n",
      "175.13277578040547\n",
      "8\n",
      "716.4779340137351\n",
      "179.76939525521266\n",
      "14\n",
      "757.6270386775137\n",
      "201.1481813904242\n",
      "[3, 9, 15]\n",
      "3\n",
      "995.5648259589659\n",
      "340.6730466061487\n",
      "9\n",
      "838.4898632423625\n",
      "353.10781836706155\n",
      "15\n",
      "1043.4415907226075\n",
      "364.76270076992\n",
      "[4, 10, 16]\n",
      "4\n",
      "2402.4183846032697\n",
      "510.87817441986573\n",
      "10\n",
      "2633.105708880351\n",
      "472.1792105845257\n",
      "16\n",
      "2654.7527816719294\n",
      "501.581632457672\n",
      "[5, 11, 17]\n",
      "5\n",
      "2834.097757600563\n",
      "606.7183205001566\n",
      "11\n",
      "2617.000048123289\n",
      "630.3450079285017\n",
      "17\n",
      "2949.277601136682\n",
      "647.7870283209181\n",
      "[6, 12, 18]\n",
      "6\n",
      "1994.2226003492099\n",
      "614.3855352701568\n",
      "12\n",
      "1667.5238499506129\n",
      "665.4820760040467\n",
      "18\n",
      "1954.2886707083749\n",
      "703.3462607491523\n"
     ]
    }
   ],
   "source": [
    "means = []\n",
    "stds = []\n",
    "\n",
    "for item in [[1,7,13], [2,8,14], [3,9,15], [4,10,16], [5, 11, 17], [6, 12, 18]]:\n",
    "    print(item)\n",
    "    band_vals = []\n",
    "    for band in item:\n",
    "        print(band)\n",
    "        with open(stats_folder + 'band_values_' + str(band) + '.list', 'rb') as f:\n",
    "            x = pickle.load(f)\n",
    "            print(x.mean())\n",
    "            print(x.std())\n",
    "            band_vals.append(x)\n",
    "            del x\n",
    "\n",
    "    band_vals = np.concatenate((band_vals[0], band_vals[1], band_vals[2]))\n",
    "    mean = band_vals.mean()\n",
    "    std = band_vals.std()\n",
    "    means.append(mean)\n",
    "    stds.append(std)\n",
    "    del band_vals\n",
    "        \n",
    "            "
   ]
  },
  {
   "cell_type": "code",
   "execution_count": 17,
   "id": "509d005b-7109-48e0-a7f5-70e8d41c4c1e",
   "metadata": {},
   "outputs": [
    {
     "name": "stdout",
     "output_type": "stream",
     "text": [
      "[437.55734497495644, 750.3690423530312, 959.165426641312, 2563.42562505185, 2800.125135620178, 1872.0117070027325]\n",
      "[155.53377603014596, 187.4030628443723, 363.6780002756211, 508.1512718083158, 643.4297107937471, 677.8771341063208]\n"
     ]
    }
   ],
   "source": [
    "print(means)\n",
    "print(stds)"
   ]
  },
  {
   "cell_type": "code",
   "execution_count": 19,
   "id": "dfe6d8c6-2bf8-4c52-a723-e448f2c3fa67",
   "metadata": {},
   "outputs": [],
   "source": [
    "band_names = ['B02', 'B03', 'B04', 'B8A', 'B11', 'B12']\n",
    "summary_df = pd.DataFrame({\"band\": band_names  ,  \"mean\": means, \"sd\": stds})\n",
    "summary_df\n",
    "summary_df.to_csv(stats_folder + \"means_sds_consolidated_dates.csv\")"
   ]
  },
  {
   "cell_type": "markdown",
   "id": "30c2352b-e674-4fa0-837c-7a8ee44260d2",
   "metadata": {},
   "source": [
    "calculate counts for all CDL classes"
   ]
  },
  {
   "cell_type": "code",
   "execution_count": 20,
   "id": "868e15a1-7ea0-4f58-b634-b32b5d7dc312",
   "metadata": {},
   "outputs": [
    {
     "name": "stdout",
     "output_type": "stream",
     "text": [
      "82\n",
      "1\n",
      "126.13948729739609\n",
      "68.23033437177017\n"
     ]
    }
   ],
   "source": [
    "chips = glob(chip_dir_filt +  \"*.mask.tif\")\n",
    "print(len(chips))\n",
    "means = []\n",
    "stds = []\n",
    "\n",
    "for band in range(1, 2):\n",
    "    print(band)\n",
    "    vals_all = np.ndarray([0])\n",
    "    for k in range(len(chips)):\n",
    "     #   print(k)\n",
    "        file = chips[k]\n",
    "        with rasterio.open(file) as src:\n",
    "            vals = src.read(band).flatten()\n",
    "            if(len(vals) != 50176):\n",
    "                print(k)\n",
    "                print(file)\n",
    "                print(len(vals))\n",
    "            vals_all = np.concatenate([vals_all, vals])\n",
    "    mean = vals_all.mean()\n",
    "    std = vals_all.std()\n",
    "    print(mean)\n",
    "    print(std)\n",
    "    means.append(mean)\n",
    "    stds.append(std)\n",
    "    \n",
    "    with open(stats_folder + 'CDL_values.list', 'wb') as file:\n",
    "        pickle.dump(vals_all, file)\n",
    "        \n"
   ]
  },
  {
   "cell_type": "markdown",
   "id": "b89b6244-81a3-4482-804e-251c3d18447f",
   "metadata": {},
   "source": [
    "export CDL counts "
   ]
  },
  {
   "cell_type": "code",
   "execution_count": 28,
   "id": "32d91bbb-8e59-4cc0-a12a-d5f758e3e24e",
   "metadata": {},
   "outputs": [],
   "source": [
    "len(vals_all)\n",
    "unique, counts = np.unique(vals_all, return_counts=True)\n",
    "total_count = counts.sum()\n",
    "pcts = (100.0*counts)/total_count\n",
    "freq_table =  pd.DataFrame({\"CDL_val\": unique  ,  \"count\": counts, \"pct\": pcts})"
   ]
  },
  {
   "cell_type": "code",
   "execution_count": 29,
   "id": "e1925101-eff6-4f06-b266-49f9792021ea",
   "metadata": {},
   "outputs": [],
   "source": [
    "freq_table.to_csv(stats_folder + \"cdl_freq.csv\")"
   ]
  },
  {
   "cell_type": "code",
   "execution_count": 30,
   "id": "cf9a5874-8709-4204-bde2-e32fa163bf66",
   "metadata": {},
   "outputs": [
    {
     "data": {
      "text/plain": [
       "212645888"
      ]
     },
     "execution_count": 30,
     "metadata": {},
     "output_type": "execute_result"
    }
   ],
   "source": [
    "counts.sum()"
   ]
  },
  {
   "cell_type": "code",
   "execution_count": null,
   "id": "bbd0dbcf-595d-40c0-b6d5-9db90037c5e6",
   "metadata": {},
   "outputs": [],
   "source": []
  }
 ],
 "metadata": {
  "kernelspec": {
   "display_name": "Python 3",
   "language": "python",
   "name": "python3"
  },
  "language_info": {
   "codemirror_mode": {
    "name": "ipython",
    "version": 3
   },
   "file_extension": ".py",
   "mimetype": "text/x-python",
   "name": "python",
   "nbconvert_exporter": "python",
   "pygments_lexer": "ipython3",
   "version": "3.6.9"
  }
 },
 "nbformat": 4,
 "nbformat_minor": 5
}
