{
 "cells": [
  {
   "cell_type": "code",
   "execution_count": null,
   "id": "de53f704-1967-47c4-8deb-b9d8ee89d465",
   "metadata": {},
   "outputs": [],
   "source": [
    "import rioxarray \n",
    "import xarray\n",
    "import rasterio\n",
    "from rasterio.enums import Resampling\n",
    "from rasterio import Affine\n",
    "from rasterio.crs import CRS\n",
    "import matplotlib.pyplot as plt\n",
    "%matplotlib inline"
   ]
  },
  {
   "cell_type": "code",
   "execution_count": null,
   "id": "607b2eb7-26f9-4370-9ea2-6daadaa5a7d7",
   "metadata": {},
   "outputs": [],
   "source": [
    "def convert_hdf_to_cog(scene_id, product = \"S30\"):\n",
    "    \n",
    "    \"\"\"\n",
    "    This function receives the scene_id of an HLS scene (in a format similar to \"HLS.S30.T14RNS.2020005.v1.4\"\n",
    "    and converts the scene from HDF format to COG. \n",
    "    \n",
    "    Assumptions:\n",
    "    - The corresponding HDF file for the scene is located at `/data/scene_id.hdf`\n",
    "    - The output will be written to `/data/scene_id/*.tif` and contains all the bands. \n",
    "    \n",
    "    Inputs:\n",
    "    - scene_id: The scene ID of the HLS scene\n",
    "    - product: the HLS product ID. Default is S30, but it can be S30, L30, S30_ANGLES, L30_ANGLES\n",
    "    \n",
    "    \"\"\"\n",
    "    \n",
    "    import os\n",
    "    cmd = f\"python3 /hls-hdf_to_cog/hls_hdf_to_cog/hls_hdf_to_cog.py --product {product} /data/{scene_id}.hdf --output-dir /data/{scene_id}/\"\n",
    "    os.system(cmd)"
   ]
  },
  {
   "cell_type": "code",
   "execution_count": null,
   "id": "ca083ac5-9359-4113-ab1d-2857ef831b86",
   "metadata": {},
   "outputs": [],
   "source": [
    "#conversion of a sample scene_id\n",
    "scene_id = \"HLS.S30.T15STT.2020002.v1.4\"\n",
    "\n",
    "# pass the scene_id to the function\n",
    "convert_hdf_to_cog(scene_id)"
   ]
  },
  {
   "cell_type": "code",
   "execution_count": null,
   "id": "18a74a78-d3b5-4717-bd24-9fa8ccf8039e",
   "metadata": {},
   "outputs": [],
   "source": []
  },
  {
   "cell_type": "code",
   "execution_count": null,
   "id": "86420f8c-43f0-4d65-8200-7654edbb1184",
   "metadata": {},
   "outputs": [],
   "source": [
    "def reproject_hls_to_cdl(scene_folder,\n",
    "                         bands = [\"B01\", \"B02\", \"B03\", \"B04\", \"B05\", \"B06\", \"B07\", \"B08\", \"B8A\", \"B09\", \"B10\", \"B11\", \"B12\"],\n",
    "                         cdl_file = \"data/2022_30m_cdls_clipped.tif\"):\n",
    "    \n",
    "    \"\"\"\n",
    "    This function receives the path to a folder that contains all GeoTIFF files (for various bands)\n",
    "    of a HLS scene, and reprojects those to the target CDL CRS and grid. \n",
    "    \n",
    "    Assumptions:\n",
    "    - scene_folder has a file structure like: \".../<scene_id>/<scene_id>.<band_id>.tiff\n",
    "    - scene_folder should not have a \"/\" at the end\n",
    "    \n",
    "    Inputs:\n",
    "    - scene_folder: is the path to the folder that contains HLS GeoTIFF files for all bands of HLS\n",
    "    - bands: list of bands of HLS that should be reprojected (default is all bands)\n",
    "    - cdl_file: contains the path to the clipped CDL GeoTIFF file\n",
    "    \n",
    "    \"\"\"\n",
    "    \n",
    "    for band in bands:\n",
    "        xds = xarray.open_rasterio(f\"{scene_folder}/{scene_folder.split('/')[-1]}.{band}.tif\")\n",
    "        cdl = xarray.open_rasterio(cdl_file)\n",
    "        xds_new = xds.rio.reproject_match(cdl, resampling = Resampling.bilinear)\n",
    "        xds_new.rio.to_raster(raster_path = f\"{scene_folder}/{scene_folder.split('/')[-1]}.{band}.5070.tif\")\n",
    "        "
   ]
  },
  {
   "cell_type": "code",
   "execution_count": null,
   "id": "a73157e3-083d-4ae3-8785-5725c02ebbcc",
   "metadata": {},
   "outputs": [],
   "source": [
    "#sample reprojection of a scene\n",
    "reproject_hls_to_cdl(\"/data/HLS.S30.T15STT.2020002.v1.4\", \n",
    "                     bands = [\"B03\"])"
   ]
  },
  {
   "cell_type": "code",
   "execution_count": null,
   "id": "fddc9cb1-a580-4696-8e5c-357fcd2399b0",
   "metadata": {},
   "outputs": [],
   "source": []
  },
  {
   "cell_type": "code",
   "execution_count": null,
   "id": "4b09dd9e-667f-471a-8eb9-d11fab66c735",
   "metadata": {},
   "outputs": [],
   "source": []
  },
  {
   "cell_type": "code",
   "execution_count": null,
   "id": "ad5d907d-e0eb-48d6-a3ea-4c90a1dcc98c",
   "metadata": {},
   "outputs": [],
   "source": []
  },
  {
   "cell_type": "code",
   "execution_count": null,
   "id": "0077514d-69b2-42d3-a2b4-c21a48d4cb04",
   "metadata": {},
   "outputs": [],
   "source": [
    "xds = xarray.open_rasterio(\"/data/HLS.S30.T15STT.2020002.v1.4/HLS.S30.T15STT.2020002.v1.4.B02.tif\")"
   ]
  },
  {
   "cell_type": "code",
   "execution_count": null,
   "id": "1a1763a0-85e7-4d0f-8b58-a9d5b2530b79",
   "metadata": {},
   "outputs": [],
   "source": [
    "cdl = xarray.open_rasterio(\"data/2022_30m_cdls_clipped.tif\")"
   ]
  },
  {
   "cell_type": "code",
   "execution_count": null,
   "id": "56b25ac2-0333-4d3e-be4b-7be49bf3ac49",
   "metadata": {},
   "outputs": [],
   "source": [
    "xds_new = xds.rio.reproject_match(cdl, resampling = Resampling.bilinear)"
   ]
  },
  {
   "cell_type": "code",
   "execution_count": null,
   "id": "f5bdb3af-ea09-428d-a2cb-0389cbb6f1d7",
   "metadata": {},
   "outputs": [],
   "source": [
    "xds_new.rio.to_raster(raster_path=\"sample_cog_w_cdl.tif\")"
   ]
  },
  {
   "cell_type": "code",
   "execution_count": null,
   "id": "147e3bec-4180-4099-8b49-7986f96bd0ea",
   "metadata": {},
   "outputs": [],
   "source": []
  },
  {
   "cell_type": "code",
   "execution_count": null,
   "id": "804a82b6-769b-450e-859f-74f49cc5648b",
   "metadata": {},
   "outputs": [],
   "source": []
  },
  {
   "cell_type": "code",
   "execution_count": null,
   "id": "74e50e74-f9af-470f-a029-bf97ba3e7e32",
   "metadata": {},
   "outputs": [],
   "source": []
  }
 ],
 "metadata": {
  "kernelspec": {
   "display_name": "Python 3",
   "language": "python",
   "name": "python3"
  },
  "language_info": {
   "codemirror_mode": {
    "name": "ipython",
    "version": 3
   },
   "file_extension": ".py",
   "mimetype": "text/x-python",
   "name": "python",
   "nbconvert_exporter": "python",
   "pygments_lexer": "ipython3",
   "version": "3.6.9"
  }
 },
 "nbformat": 4,
 "nbformat_minor": 5
}
