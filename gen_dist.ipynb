{
 "cells": [
  {
   "cell_type": "code",
   "execution_count": null,
   "id": "70329e02-4cf2-44e3-af5b-3ff8cffb1342",
   "metadata": {},
   "outputs": [],
   "source": [
    "import pandas as pd\n",
    "import rasterio as rio\n",
    "import numpy as np"
   ]
  },
  {
   "cell_type": "code",
   "execution_count": null,
   "id": "8778c7d4-619a-4ca6-a337-7cb547433cc5",
   "metadata": {},
   "outputs": [],
   "source": [
    "class_names = {\n",
    "        0   :   \"No Data\",\n",
    "        1\t:\t\"Natural Vegetation\"\t,\n",
    "        2\t:\t\"Forest\"\t,\n",
    "        3\t:\t\"Corn\"\t,\n",
    "        4\t:\t\"Soybeans\"\t,\n",
    "        5\t:\t\"Wetlands\"\t,\n",
    "        6\t:\t\"Developed/Barren\"\t,\n",
    "        7\t:\t\"Open Water\"\t,\n",
    "        8\t:\t\"Winter Wheat\"\t,\n",
    "        9\t:\t\"Alfalfa\"\t,\n",
    "        10\t:\t\"Fallow/Idle Cropland\"\t,\n",
    "        11\t:\t\"Cotton\"\t,\n",
    "        12\t:\t\"Sorghum\"\t,\n",
    "        13\t:\t\"Other\"\t\n",
    "    }"
   ]
  },
  {
   "cell_type": "code",
   "execution_count": null,
   "id": "c27e6a7d-04b4-4c11-8fa4-be6627db34b4",
   "metadata": {},
   "outputs": [],
   "source": [
    "val_df = pd.read_csv(\"val_ids.csv\")\n",
    "train_df = pd.read_csv(\"train_ids.csv\")"
   ]
  },
  {
   "cell_type": "code",
   "execution_count": null,
   "id": "e8c2d788-e05b-47cf-b279-ac7b8de87be8",
   "metadata": {},
   "outputs": [],
   "source": [
    "# Create an empty df to load chips\n",
    "df_columns = [\"chip_id\"]\n",
    "for i in range(14):\n",
    "    df_columns.append(i)\n",
    "val_chips_df = pd.DataFrame(columns = df_columns)\n",
    "\n",
    "for id in val_df.ids:\n",
    "    filepath = \"/data/chips_filtered/chip_\"+id+\".mask.tif\"\n",
    "    with rio.open(filepath, \"r\") as src:\n",
    "        img = src.read(1)\n",
    "    classes, class_counts = np.unique(img, return_counts=True)\n",
    "    counts = np.zeros(14)\n",
    "    counts[classes] = class_counts\n",
    "    val_chips_df.loc[len(val_chips_df.index)] = [id] + counts.tolist()\n",
    "        "
   ]
  },
  {
   "cell_type": "code",
   "execution_count": null,
   "id": "ced4707c-d05d-4292-86ac-15352ad3bfa2",
   "metadata": {},
   "outputs": [],
   "source": [
    "import matplotlib.pyplot as plt\n",
    "plt.bar(range(14), val_chips_df.loc[:, [0, 1, 2, 3, 4, 5, 6, 7, 8, 9, 10, 11, 12, 13]].sum()/np.sum(val_chips_df.loc[:, [0, 1, 2, 3, 4, 5, 6, 7, 8, 9, 10, 11, 12, 13]].sum()))\n",
    "plt.xticks(range(14), list(class_names.values()), rotation = 90)\n",
    "plt.draw()\n",
    "plt.savefig('validation_dst.png',\n",
    "            dpi=150,\n",
    "            format='png',\n",
    "            bbox_inches='tight'\n",
    "           )"
   ]
  },
  {
   "cell_type": "code",
   "execution_count": null,
   "id": "851fb5ae-cc8b-4e13-a468-0fadf9b78308",
   "metadata": {},
   "outputs": [],
   "source": [
    "# Create an empty df to load chips\n",
    "df_columns = [\"chip_id\"]\n",
    "for i in range(14):\n",
    "    df_columns.append(i)\n",
    "train_chips_df = pd.DataFrame(columns = df_columns)\n",
    "\n",
    "for id in train_df.ids:\n",
    "    filepath = \"/data/chips_filtered/chip_\"+id+\".mask.tif\"\n",
    "    with rio.open(filepath, \"r\") as src:\n",
    "        img = src.read(1)\n",
    "    classes, class_counts = np.unique(img, return_counts=True)\n",
    "    counts = np.zeros(14)\n",
    "    counts[classes] = class_counts\n",
    "    train_chips_df.loc[len(train_chips_df.index)] = [id] + counts.tolist()\n",
    "        "
   ]
  },
  {
   "cell_type": "code",
   "execution_count": null,
   "id": "939c2d36-90a4-4bb3-8913-83b015fee5a6",
   "metadata": {},
   "outputs": [],
   "source": [
    "import matplotlib.pyplot as plt\n",
    "plt.bar(range(14), train_chips_df.loc[:, [0, 1, 2, 3, 4, 5, 6, 7, 8, 9, 10, 11, 12, 13]].sum()/np.sum(train_chips_df.loc[:, [0, 1, 2, 3, 4, 5, 6, 7, 8, 9, 10, 11, 12, 13]].sum()))\n",
    "plt.xticks(range(14), list(class_names.values()), rotation = 90)\n",
    "plt.draw()\n",
    "plt.savefig('training_dst.png',\n",
    "            dpi=150,\n",
    "            format='png',\n",
    "            bbox_inches='tight'\n",
    "           )"
   ]
  },
  {
   "cell_type": "code",
   "execution_count": null,
   "id": "414c3380-e272-4eb3-9866-174475eb096c",
   "metadata": {},
   "outputs": [],
   "source": []
  }
 ],
 "metadata": {
  "kernelspec": {
   "display_name": "Python 3 (ipykernel)",
   "language": "python",
   "name": "python3"
  },
  "language_info": {
   "codemirror_mode": {
    "name": "ipython",
    "version": 3
   },
   "file_extension": ".py",
   "mimetype": "text/x-python",
   "name": "python",
   "nbconvert_exporter": "python",
   "pygments_lexer": "ipython3",
   "version": "3.10.6"
  }
 },
 "nbformat": 4,
 "nbformat_minor": 5
}
