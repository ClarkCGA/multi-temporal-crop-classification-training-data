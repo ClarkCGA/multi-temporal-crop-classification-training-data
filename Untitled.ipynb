{
 "cells": [
  {
   "cell_type": "code",
   "execution_count": 1,
   "id": "de53f704-1967-47c4-8deb-b9d8ee89d465",
   "metadata": {},
   "outputs": [],
   "source": [
    "import rioxarray \n",
    "import xarray\n",
    "import rasterio\n",
    "from rasterio.enums import Resampling"
   ]
  },
  {
   "cell_type": "code",
   "execution_count": 2,
   "id": "0077514d-69b2-42d3-a2b4-c21a48d4cb04",
   "metadata": {},
   "outputs": [],
   "source": [
    "xds = xarray.open_rasterio(\"/data/HLS.S30.T14RNS.2020005.v1.4/HLS.S30.T14RNS.2020005.v1.4.B04.tif\")"
   ]
  },
  {
   "cell_type": "code",
   "execution_count": 3,
   "id": "1a1763a0-85e7-4d0f-8b58-a9d5b2530b79",
   "metadata": {},
   "outputs": [],
   "source": [
    "cdl = xarray.open_rasterio(\"data/2022_30m_cdls.tif\")"
   ]
  },
  {
   "cell_type": "code",
   "execution_count": null,
   "id": "56b25ac2-0333-4d3e-be4b-7be49bf3ac49",
   "metadata": {},
   "outputs": [],
   "source": [
    "xds_new = xds.rio.reproject_match(cdl, resampling = Resampling.bilinear)"
   ]
  },
  {
   "cell_type": "code",
   "execution_count": null,
   "id": "36c2c00c-cd9a-457c-a1bb-485f4db65af8",
   "metadata": {},
   "outputs": [],
   "source": []
  },
  {
   "cell_type": "code",
   "execution_count": null,
   "id": "e7201870-eec9-4206-88a2-89512366e51c",
   "metadata": {},
   "outputs": [],
   "source": []
  },
  {
   "cell_type": "code",
   "execution_count": null,
   "id": "c7f16f4e-b349-4779-8d88-6626d08b588c",
   "metadata": {},
   "outputs": [],
   "source": []
  },
  {
   "cell_type": "code",
   "execution_count": null,
   "id": "804a82b6-769b-450e-859f-74f49cc5648b",
   "metadata": {},
   "outputs": [],
   "source": [
    "xds_new.rio.to_raster(raster_path=\"/data/HLS.S30.T14RNS.2020005.v1.4/HLS.S30.T14RNS.2020005.v1.4.B04.cog.tif\")"
   ]
  },
  {
   "cell_type": "code",
   "execution_count": null,
   "id": "607b2eb7-26f9-4370-9ea2-6daadaa5a7d7",
   "metadata": {},
   "outputs": [],
   "source": [
    "def project_hdf_to_cdl(tile_id, product = \"S30\"):\n",
    "    \n",
    "    \"\"\"\n",
    "    This function receives the tile_id of an HLS tile (in a format simialr to \"HLS.S30.T14RNS.2020005.v1.4\"\n",
    "    and converts the tile from HDF format to COG. \n",
    "    Assumptions:\n",
    "    - The corresponding HDF file for the tile is located at `/data/tile_id.hdf`\n",
    "    - The output will be written to `/data/tile_id/*.tif` and contains all the bands. \n",
    "    \n",
    "    inputs:\n",
    "    - tile_id: The tile ID of the HLS tile\n",
    "    - product: the HLS product ID. Default is S30, but it can be S30, L30, S30_ANGLES, L30_ANGLES\n",
    "    \n",
    "    \"\"\"\n",
    "    \n",
    "    import os\n",
    "    cmd = f\"python3 /hls-hdf_to_cog/hls_hdf_to_cog/hls_hdf_to_cog.py --product {product} /data/{tile_id}.hdf --output-dir /data/{tile_id}/\"\n",
    "    os.system(cmd)"
   ]
  },
  {
   "cell_type": "code",
   "execution_count": null,
   "id": "ca083ac5-9359-4113-ab1d-2857ef831b86",
   "metadata": {},
   "outputs": [],
   "source": [
    "#define a sample tile_id (this can be inside a loop for the final code)\n",
    "tile_id = \"HLS.S30.T14RNS.2020005.v1.4\"\n",
    "\n",
    "# pass the tile_id to the function\n",
    "project_hdf_to_cdl(tile_id)"
   ]
  }
 ],
 "metadata": {
  "kernelspec": {
   "display_name": "Python 3",
   "language": "python",
   "name": "python3"
  },
  "language_info": {
   "codemirror_mode": {
    "name": "ipython",
    "version": 3
   },
   "file_extension": ".py",
   "mimetype": "text/x-python",
   "name": "python",
   "nbconvert_exporter": "python",
   "pygments_lexer": "ipython3",
   "version": "3.6.9"
  }
 },
 "nbformat": 4,
 "nbformat_minor": 5
}
