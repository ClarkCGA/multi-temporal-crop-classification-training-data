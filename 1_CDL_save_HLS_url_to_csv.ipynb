{
 "cells": [
  {
   "cell_type": "code",
   "execution_count": 1,
   "id": "e9a7fc5b-98dc-482d-892c-ed59a0aeeb7e",
   "metadata": {},
   "outputs": [],
   "source": [
    "##### START OPTIONS #####\n",
    "yoi = [2020]\n",
    "toi = ['15RTN', '15RTP', '14RNS']\n",
    "spath = f\"C:/Users/mcecil/CGA/CDL/CDL_HLS_dataframe{yoi[0]}.csv\"\n",
    "#####  END OPTIONS  #####\n"
   ]
  },
  {
   "cell_type": "code",
   "execution_count": 3,
   "id": "3ad4fe87-55b1-44d3-832a-a47cd6d6296b",
   "metadata": {},
   "outputs": [],
   "source": [
    "\n",
    "# Switch plotting backend\n",
    "import matplotlib\n",
    "matplotlib.use('agg')\n",
    "\n",
    "# Import required modules\n",
    "#import cartopy.crs as ccrs\n",
    "from datetime import datetime\n",
    "import geopandas\n",
    "import rasterio\n",
    "import rasterio.mask\n",
    "import matplotlib.pyplot as pp\n",
    "import nasa_hls\n",
    "import numpy as np\n",
    "import time\n"
   ]
  },
  {
   "cell_type": "code",
   "execution_count": 4,
   "id": "80e34677-b6d5-4a40-9eb8-ef7f3d7da113",
   "metadata": {},
   "outputs": [
    {
     "name": "stderr",
     "output_type": "stream",
     "text": [
      "100%|██████████| 3/3 [00:08<00:00,  2.99s/it]"
     ]
    },
    {
     "name": "stdout",
     "output_type": "stream",
     "text": [
      "9.007256984710693\n"
     ]
    },
    {
     "name": "stderr",
     "output_type": "stream",
     "text": [
      "\n"
     ]
    }
   ],
   "source": [
    "\n",
    "# # Read in the tile list\n",
    "# toi = []\n",
    "# fn = open(toi_file, 'r')\n",
    "# for i, line in enumerate(fn):\n",
    "   \n",
    "#    if (i == 0): # Skip the header\n",
    "#         continue\n",
    "\n",
    "#    toi.append(line.split(',')[0])\n",
    "    \n",
    "# fn.close()\n",
    "\n",
    "# Collect potential HLS data\n",
    "tick = time.time()\n",
    "HLSdf = nasa_hls.get_available_datasets(\n",
    "        years = yoi,\n",
    "        products = [\"S30\"],\n",
    "        tiles = toi,\n",
    "        return_list = False)\n",
    "        \n",
    "print(time.time()-tick)\n",
    "HLSdf.to_csv(spath, mode='w')"
   ]
  },
  {
   "cell_type": "code",
   "execution_count": null,
   "id": "a25d5e21-190b-47da-a26b-88a10d812945",
   "metadata": {},
   "outputs": [],
   "source": []
  }
 ],
 "metadata": {
  "kernelspec": {
   "display_name": "Python 3 (ipykernel)",
   "language": "python",
   "name": "python3"
  },
  "language_info": {
   "codemirror_mode": {
    "name": "ipython",
    "version": 3
   },
   "file_extension": ".py",
   "mimetype": "text/x-python",
   "name": "python",
   "nbconvert_exporter": "python",
   "pygments_lexer": "ipython3",
   "version": "3.10.10"
  }
 },
 "nbformat": 4,
 "nbformat_minor": 5
}
