{
 "cells": [
  {
   "cell_type": "code",
   "execution_count": null,
   "id": "7e6b50c4-da3b-4a0a-bde2-f89247158af0",
   "metadata": {},
   "outputs": [],
   "source": [
    "!pip install requests\n",
    "!pip install xmltodict"
   ]
  },
  {
   "cell_type": "code",
   "execution_count": 147,
   "id": "50ac8743-65a0-4683-8207-4ac6f1e0e929",
   "metadata": {},
   "outputs": [],
   "source": [
    "import geopandas\n",
    "import json\n",
    "import shapely\n",
    "import shapely.geometry\n",
    "import xarray\n",
    "import rasterio as rio\n",
    "import rioxarray\n",
    "import os\n",
    "import fiona\n",
    "import nasa_hls\n",
    "import urllib.request as urlreq\n",
    "import pandas as pd\n",
    "import numpy as np\n",
    "import requests\n",
    "import xmltodict\n",
    "import shutil\n",
    "import datetime\n",
    "\n",
    "from shapely.ops import transform\n",
    "from shapely.geometry import Point\n",
    "from shapely.geometry import Polygon\n",
    "from pystac_client import Client \n",
    "from collections import defaultdict\n",
    "from glob import glob\n",
    "from rasterio.enums import Resampling\n",
    "from rasterio import Affine\n",
    "from rasterio.crs import CRS\n",
    "import matplotlib.pyplot as plt\n",
    "from subprocess import Popen, PIPE\n",
    "from tqdm import tqdm\n",
    "pd.set_option('display.max_columns', None)\n",
    "pd.set_option('display.max_rows', None)\n",
    "\n",
    "%matplotlib inline\n"
   ]
  },
  {
   "cell_type": "code",
   "execution_count": null,
   "id": "0dacb4a2-da90-47ae-99ad-6d2d389a2a6f",
   "metadata": {},
   "outputs": [],
   "source": [
    "##### START OPTIONS #####\n",
    "yoi = [2021]\n",
    "#toi = ['15STT']\n",
    "cloud_thres = 5\n",
    "valid_months = [3,4,5,6,7,8,9]\n",
    "root_path = \"/data/\"\n",
    "\n",
    "## file paths\n",
    "spath = root_path + f\"CDL_HLS_dataframe{yoi[0]}\"\n",
    "image_index_file = root_path + f\"image_index{yoi[0]}\"\n",
    "chip_file =  root_path + \"chip_bbox.geojson\"\n",
    "chip_csv = root_path + \"chip_tracker.csv\"\n",
    "kml_file = root_path + 'sentinel_tile_grid.kml'\n",
    "cdl_reclass_csv = root_path + \"cdl_freq.csv\"\n",
    "tile_tracker_csv = root_path + \"tile_tracker.csv\"\n",
    "\n",
    "## folder paths\n",
    "chip_dir = root_path + 'chips/'\n",
    "tif_dir = root_path + 'tif/'\n",
    "chip_dir_binary = root_path + 'chips_binary/'\n",
    "chip_dir_multi = root_path + 'chips_multi/'\n",
    "\n",
    "chip_dir_filt = root_path + 'chips_filtered/'\n",
    "chip_dir_binary_filt = root_path + 'chips_binary_filtered/'\n",
    "chip_dir_multi_filt = root_path + 'chips_multi_filtered/'\n",
    "\n",
    "chip_qa_dir = root_path + 'chips_qa/'\n",
    "\n",
    "#####  END OPTIONS  #####"
   ]
  },
  {
   "cell_type": "markdown",
   "id": "079d047b-c57f-4b57-a5c8-95524a82bb01",
   "metadata": {},
   "source": [
    "make folders if needed"
   ]
  },
  {
   "cell_type": "code",
   "execution_count": null,
   "id": "5f3e5a85-6469-4ffd-b157-018b88c9d27d",
   "metadata": {},
   "outputs": [],
   "source": [
    "dirs_to_make = [chip_dir, chip_dir_binary, chip_qa_dir]\n",
    "for folder in dirs_to_make:\n",
    "    try:\n",
    "        os.makedirs(folder)\n",
    "    except FileExistsError:\n",
    "        # directory already exists\n",
    "        print('pass')\n",
    "        pass"
   ]
  },
  {
   "cell_type": "markdown",
   "id": "8199b487-b385-42ee-a616-62c33f518bb1",
   "metadata": {},
   "source": [
    "0 determine HLS tiles"
   ]
  },
  {
   "cell_type": "code",
   "execution_count": null,
   "id": "5874398d-1cf4-4ee8-ae33-fab6d8ef6cae",
   "metadata": {},
   "outputs": [],
   "source": [
    "with open(\"/cdl_training_data/data/chip_bbox.geojson\", \"r\") as file:\n",
    "    chips = json.load(file)\n",
    "    \n",
    "chip_ids = []\n",
    "chip_x = []\n",
    "chip_y = []\n",
    "for item in chips['features']:\n",
    "    #print(item)\n",
    "    chip_ids.append(item['properties']['id'])\n",
    "    chip_x.append(item['properties']['center'][0])\n",
    "    chip_y.append(item['properties']['center'][1])\n",
    "\n",
    "\n",
    "#chip_ids = a.fea\n",
    "#print(a['features'][0]['properties']['center'])"
   ]
  },
  {
   "cell_type": "code",
   "execution_count": null,
   "id": "b14ff430-05c1-4e1c-aba4-e7b29ee795a9",
   "metadata": {},
   "outputs": [],
   "source": [
    "# chips['features'][0]['geometry']['coordinates'][0] = chips['features'][0]['geometry']['coordinates'][0][::-1]   check with Hamed"
   ]
  },
  {
   "cell_type": "code",
   "execution_count": null,
   "id": "05f5a6c4-50bf-4a2c-91a5-64070ba5ee2a",
   "metadata": {},
   "outputs": [],
   "source": [
    "# Load the HLS tiles and place there coordinates into a numpy array for processing later\n",
    "\n",
    "fiona.drvsupport.supported_drivers['KML'] = 'rw'\n",
    "tile_src = geopandas.read_file(kml_file, driver='KML')\n",
    "tile_name = []\n",
    "tile_x = []\n",
    "tile_y = []\n",
    "for tile_ind in range(tile_src.shape[0]):\n",
    "    tile_name.append(tile_src.iloc[tile_ind].Name)\n",
    "    tile_x.append(tile_src.iloc[tile_ind].geometry.centroid.x)\n",
    "    tile_y.append(tile_src.iloc[tile_ind].geometry.centroid.y)\n",
    "tile_name = np.array(tile_name)\n",
    "tile_x = np.array(tile_x)\n",
    "tile_y = np.array(tile_y)\n",
    "tile_src = pd.concat([tile_src, tile_src.bounds], axis = 1)\n",
    "#del tile_src\n",
    "tile_src.head(5)"
   ]
  },
  {
   "cell_type": "code",
   "execution_count": null,
   "id": "ccaa644f-6760-4404-a1dc-f80a36490e7a",
   "metadata": {},
   "outputs": [],
   "source": [
    "def find_tile(x,y):\n",
    "# Identify closest tile\n",
    "    s = (tile_x - x)**2+(tile_y - y)**2\n",
    "    tname = tile_name[np.argmin(s)]\n",
    "    return(tname)"
   ]
  },
  {
   "cell_type": "markdown",
   "id": "e8f391b8-2b15-4f00-978c-7fc6a4ec10bf",
   "metadata": {},
   "source": [
    "initialize chip tracker csv"
   ]
  },
  {
   "cell_type": "code",
   "execution_count": null,
   "id": "dc40570a-aa5a-4192-921f-076b86bff2d0",
   "metadata": {},
   "outputs": [],
   "source": [
    "chip_df = pd.DataFrame({\"chip_id\" : chip_ids, \"chip_x\" : chip_x, \"chip_y\" : chip_y})\n",
    "chip_df['tile'] = chip_df.apply(lambda row : find_tile(row['chip_x'], row['chip_y']), axis = 1)\n",
    "chip_df.tail(5)"
   ]
  },
  {
   "cell_type": "code",
   "execution_count": null,
   "id": "30cf91c0-3b1f-474a-b598-0f83c318acf8",
   "metadata": {},
   "outputs": [],
   "source": [
    "## write to csv\n",
    "check_file = glob(chip_csv)\n",
    "if len(check_file) == 0:\n",
    "    chip_df.to_csv(chip_csv, index=False)\n",
    "else:\n",
    "    print('file exists')"
   ]
  },
  {
   "cell_type": "code",
   "execution_count": null,
   "id": "d6a849ce-01ad-4567-84c5-7713782e365d",
   "metadata": {},
   "outputs": [],
   "source": [
    "tiles = chip_df.tile.unique().tolist()\n",
    "tiles[0:5]"
   ]
  },
  {
   "cell_type": "code",
   "execution_count": null,
   "id": "81f31aa6-22c5-41b7-a685-6277066e6537",
   "metadata": {},
   "outputs": [],
   "source": [
    "chip_df[chip_df.tile == '01SBU'].head(5)"
   ]
  },
  {
   "cell_type": "code",
   "execution_count": null,
   "id": "bf8d40dc-3ffc-4921-93fa-6f9d7b45b82d",
   "metadata": {},
   "outputs": [],
   "source": [
    "tiles.remove('01SBU')\n",
    "tiles"
   ]
  },
  {
   "cell_type": "code",
   "execution_count": null,
   "id": "1739b5e4-4726-499d-be40-f2898ae10aa7",
   "metadata": {},
   "outputs": [],
   "source": [
    "tile_tracker = pd.DataFrame({\"tile\":tiles})\n",
    "tile_tracker['exclude'] = False\n",
    "tile_tracker['tif_download'] = False\n",
    "tile_tracker['tif_reproject'] = False\n",
    "tile_tracker['chip'] = False\n",
    "tile_tracker['filter_chips'] = False\n",
    "# tile_tracker.head(50)"
   ]
  },
  {
   "cell_type": "code",
   "execution_count": null,
   "id": "4cebcc33-4b27-4409-a824-fd1d77d1a72e",
   "metadata": {},
   "outputs": [],
   "source": [
    "STAC_URL = 'https://cmr.earthdata.nasa.gov/stac'\n",
    "catalog = Client.open(f'{STAC_URL}/LPCLOUD/')"
   ]
  },
  {
   "cell_type": "code",
   "execution_count": null,
   "id": "effc0921-6f1c-4ab5-aa55-43bae2f0dd2d",
   "metadata": {},
   "outputs": [],
   "source": [
    "tile_list = []\n",
    "print(f\"There are a total of {len(tiles)} tiles\")\n",
    "tile_iter = 0\n",
    "for current_tile in tiles:\n",
    "    ## find single chip for current tile\n",
    "    chip_df_filt = chip_df.loc[chip_df.tile == current_tile]#.reset_index()\n",
    "    # print(chip_df_filt.head(5))\n",
    "    first_chip_id = chip_df_filt.chip_id.iloc[0]\n",
    "    # print(first_chip_id)\n",
    "    first_chip_index_in_json = chip_ids.index(first_chip_id)\n",
    "    # print(first_chip_index_in_json)\n",
    "    roi = chips['features'][first_chip_index_in_json]['geometry']\n",
    "    # print(roi)\n",
    "    search = catalog.search(\n",
    "        collections = ['HLSS30.v2.0'],\n",
    "        intersects = roi,\n",
    "        datetime = '2021-03/2021-09',\n",
    "    ) \n",
    "    num_results = search.matched()\n",
    "    item_collection = search.get_all_items()\n",
    "    tile_name = \"T\" + current_tile\n",
    "    iter_items = 0\n",
    "    print(f\"Gathering information for tile {tile_name}\")\n",
    "    print(f\"There are a total of {num_results} matching tiles for chip_{first_chip_id}'s geometry\")\n",
    "    \n",
    "    for i in tqdm(item_collection):\n",
    "        if i.id.split('.')[2] == tile_name:\n",
    "            if i.properties['eo:cloud_cover'] <= 5:\n",
    "                response = requests.get(i.assets['metadata'].href)\n",
    "                if response.status_code == 200:\n",
    "                    temp_xml = response.text\n",
    "                    temp_xml = xmltodict.parse(temp_xml)\n",
    "                    # print(temp_xml['Granule']['AdditionalAttributes']['AdditionalAttribute'][3]['Values']['Value'])\n",
    "                    temp_dict = {\"tile_id\": tile_name, \"cloud_cover\": i.properties['eo:cloud_cover'],\n",
    "                                 \"date\": datetime.datetime.strptime(i.properties['datetime'].split('T')[0], \"%Y-%m-%d\"), \n",
    "                                 \"spatial_cover\": temp_xml['Granule']['AdditionalAttributes']['AdditionalAttribute'][3]['Values']['Value'],\n",
    "                                 \"links\": {\"B02\": i.assets['B02'].href.replace('https://data.lpdaac.earthdatacloud.nasa.gov/', 's3://'), \n",
    "                                           \"B03\": i.assets['B03'].href.replace('https://data.lpdaac.earthdatacloud.nasa.gov/', 's3://'), \n",
    "                                           \"B04\": i.assets['B04'].href.replace('https://data.lpdaac.earthdatacloud.nasa.gov/', 's3://'), \n",
    "                                           \"B8A\": i.assets['B8A'].href.replace('https://data.lpdaac.earthdatacloud.nasa.gov/', 's3://'), \n",
    "                                           \"Fmask\": i.assets['Fmask'].href.replace('https://data.lpdaac.earthdatacloud.nasa.gov/', 's3://')}}\n",
    "                    tile_list.append(temp_dict)\n",
    "                    iter_items += 1\n",
    "                else: \n",
    "                    assert False, f\"Failed to fetch XML from {i.assets['metadata'].href}. Error code: {response.status_code}\"\n",
    "\n",
    "    print(f\"Information for tile {tile_name} is collected, a total of {iter_items} out of {num_results} tiles pass the filter\")\n",
    "    tile_iter += 1\n",
    "    print(f\"{tile_iter}/{len(tiles)}\")\n",
    "tile_df = pd.DataFrame(tile_list)"
   ]
  },
  {
   "cell_type": "code",
   "execution_count": null,
   "id": "7c284b33-1b21-48a4-8af2-cf434fcd8b9c",
   "metadata": {},
   "outputs": [],
   "source": [
    "tile_df"
   ]
  },
  {
   "cell_type": "code",
   "execution_count": null,
   "id": "0e0e1334-b8c8-46a5-a550-5feff19187da",
   "metadata": {},
   "outputs": [],
   "source": []
  }
 ],
 "metadata": {
  "kernelspec": {
   "display_name": "Python 3 (ipykernel)",
   "language": "python",
   "name": "python3"
  },
  "language_info": {
   "codemirror_mode": {
    "name": "ipython",
    "version": 3
   },
   "file_extension": ".py",
   "mimetype": "text/x-python",
   "name": "python",
   "nbconvert_exporter": "python",
   "pygments_lexer": "ipython3",
   "version": "3.8.10"
  }
 },
 "nbformat": 4,
 "nbformat_minor": 5
}
