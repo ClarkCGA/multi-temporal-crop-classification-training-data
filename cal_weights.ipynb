{
 "cells": [
  {
   "cell_type": "code",
   "execution_count": null,
   "id": "4837010a-4e11-4182-9b7b-7a80a714124f",
   "metadata": {
    "tags": []
   },
   "outputs": [],
   "source": [
    "import glob\n",
    "import os\n",
    "import numpy as np\n",
    "import sklearn"
   ]
  },
  {
   "cell_type": "markdown",
   "id": "a7d149ef-9a52-43d8-817e-d1f1f1de2804",
   "metadata": {
    "tags": []
   },
   "source": [
    "## Get distribution"
   ]
  },
  {
   "cell_type": "code",
   "execution_count": null,
   "id": "3a9d63ae-dd2a-4de3-8676-7011cea708b7",
   "metadata": {
    "tags": []
   },
   "outputs": [],
   "source": [
    "files = glob.glob(\"/data/chips_filtered/**mask**\")\n",
    "files[0:10]"
   ]
  },
  {
   "cell_type": "code",
   "execution_count": null,
   "id": "5756b368-d286-4edb-becd-c725e43cf518",
   "metadata": {
    "tags": []
   },
   "outputs": [],
   "source": [
    "import rasterio\n",
    "\n",
    "def open_tiff(fname):\n",
    "    \n",
    "    with rasterio.open(fname, \"r\") as src:\n",
    "        \n",
    "        data = src.read()\n",
    "        \n",
    "    return data\n"
   ]
  },
  {
   "cell_type": "code",
   "execution_count": null,
   "id": "8b44450b-58f9-4380-9e45-9d9fe3c91f39",
   "metadata": {
    "tags": []
   },
   "outputs": [],
   "source": [
    "y = []\n",
    "for file in files:\n",
    "    \n",
    "    data = open_tiff(file)\n",
    "    y.append(data.flatten())"
   ]
  },
  {
   "cell_type": "code",
   "execution_count": null,
   "id": "bce00c2f-43fd-4386-8871-3a158e61ef78",
   "metadata": {},
   "outputs": [],
   "source": [
    "y_stack = np.vstack(y)"
   ]
  },
  {
   "cell_type": "code",
   "execution_count": null,
   "id": "cc1295ba-f95e-4022-8de9-73e383faef4f",
   "metadata": {
    "tags": []
   },
   "outputs": [],
   "source": [
    "y_flatten = y_stack.flatten()"
   ]
  },
  {
   "cell_type": "code",
   "execution_count": null,
   "id": "4fb6f0fa-df8f-4734-a878-1971a7e540aa",
   "metadata": {
    "tags": []
   },
   "outputs": [],
   "source": [
    "class_weights=sklearn.utils.class_weight.compute_class_weight('balanced',classes=np.unique(np.ravel(y_flatten,order='C')),y=np.ravel(y_flatten,order='C'))"
   ]
  },
  {
   "cell_type": "code",
   "execution_count": null,
   "id": "09330241-f7cb-4c4a-a212-cc386612ba93",
   "metadata": {
    "tags": []
   },
   "outputs": [],
   "source": [
    "class_weights"
   ]
  },
  {
   "cell_type": "code",
   "execution_count": null,
   "id": "3235db77-d8d7-4fad-ac50-508d155c0a4f",
   "metadata": {},
   "outputs": [],
   "source": [
    "class_weights / np.sum(class_weights)"
   ]
  },
  {
   "cell_type": "code",
   "execution_count": null,
   "id": "e46c057b-3898-4ee8-9394-fd463e946430",
   "metadata": {},
   "outputs": [],
   "source": []
  }
 ],
 "metadata": {
  "kernelspec": {
   "display_name": "Python 3 (ipykernel)",
   "language": "python",
   "name": "python3"
  },
  "language_info": {
   "codemirror_mode": {
    "name": "ipython",
    "version": 3
   },
   "file_extension": ".py",
   "mimetype": "text/x-python",
   "name": "python",
   "nbconvert_exporter": "python",
   "pygments_lexer": "ipython3",
   "version": "3.10.6"
  }
 },
 "nbformat": 4,
 "nbformat_minor": 5
}
